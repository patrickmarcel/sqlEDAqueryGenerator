{
 "cells": [
  {
   "cell_type": "markdown",
   "id": "frequent-consultancy",
   "metadata": {},
   "source": [
    "# SQL comparison notebooks <dataset_name>\n",
    "This data analysis was automatically generated using the TAP algorithm."
   ]
  },
  {
   "cell_type": "code",
   "execution_count": 46,
   "id": "applied-backup",
   "metadata": {},
   "outputs": [
    {
     "name": "stdout",
     "output_type": "stream",
     "text": [
      "The sql extension is already loaded. To reload it, use:\n",
      "  %reload_ext sql\n"
     ]
    }
   ],
   "source": [
    "import sqlalchemy\n",
    "sqlalchemy.create_engine(\"postgresql://localhost:5432/covid?user=marcel&password=1598marcel\")\n",
    "%load_ext sql\n",
    "%sql postgresql://localhost:5432/covid?user=marcel&password=1598marcel\n",
    "%config SqlMagic.displaycon=False"
   ]
  },
  {
   "cell_type": "markdown",
   "id": "realistic-project",
   "metadata": {},
   "source": [
    "### Query 1\n",
    " \n",
    "For measure Sum of \"Conso moyenne (MWh)\" \n",
    "Comparing \"Type EPCI\" ZZ vs CU \n",
    "grouped by \"Type IRIS\" \n",
    "\n",
    "Insight is: Mean Greater for ZZ \n",
    "\n",
    "\n"
   ]
  },
  {
   "cell_type": "code",
   "execution_count": 47,
   "id": "multiple-pioneer",
   "metadata": {},
   "outputs": [
    {
     "name": "stdout",
     "output_type": "stream",
     "text": [
      "1 rows affected.\n"
     ]
    },
    {
     "data": {
      "text/html": [
       "<table>\n",
       "    <tr>\n",
       "        <th>Type IRIS</th>\n",
       "        <th>Sum(Conso moyenne (MWh)) for Type EPCI = ZZ</th>\n",
       "        <th>Sum(Conso moyenne (MWh)) for Type EPCI = CU</th>\n",
       "    </tr>\n",
       "    <tr>\n",
       "        <td>Z</td>\n",
       "        <td>26695</td>\n",
       "        <td>3268</td>\n",
       "    </tr>\n",
       "</table>"
      ],
      "text/plain": [
       "[('Z', Decimal('26695'), Decimal('3268'))]"
      ]
     },
     "execution_count": 47,
     "metadata": {},
     "output_type": "execute_result"
    }
   ],
   "source": [
    "%%sql\n",
    "select t1.\"Type IRIS\", \n",
    "       t1.measure1 as \"Sum(Conso moyenne (MWh)) for Type EPCI = ZZ\", t2.measure2 as \"Sum(Conso moyenne (MWh)) for Type EPCI = CU\"  \n",
    "from \n",
    "  (select \"Type EPCI\", \"Type IRIS\", sum(\"Conso moyenne (MWh)\") as measure1 \n",
    "   from conso_iris \n",
    "   where  \"Type EPCI\" = 'ZZ' \n",
    "   group by \"Type EPCI\", \"Type IRIS\") t1, \n",
    "  (select \"Type EPCI\", \"Type IRIS\",sum(\"Conso moyenne (MWh)\") as measure2 \n",
    "   from conso_iris \n",
    "   where \"Type EPCI\" = 'CU' \n",
    "   group by \"Type EPCI\", \"Type IRIS\") t2 \n",
    "where t1.\"Type IRIS\" = t2.\"Type IRIS\" order by \"Type IRIS\"; \n"
   ]
  },
  {
   "cell_type": "markdown",
   "id": "gorgeous-metallic",
   "metadata": {},
   "source": [
    "### Query 2\n",
    " \n",
    "For measure Sum of \"Conso totale (MWh)\" \n",
    "Comparing \"Type EPCI\" ZZ vs CU \n",
    "grouped by \"Type IRIS\" \n",
    "\n",
    "Insight is: Mean Greater for ZZ \n",
    "\n",
    "\n"
   ]
  },
  {
   "cell_type": "code",
   "execution_count": 48,
   "id": "comfortable-validation",
   "metadata": {},
   "outputs": [
    {
     "name": "stdout",
     "output_type": "stream",
     "text": [
      "1 rows affected.\n"
     ]
    },
    {
     "data": {
      "text/html": [
       "<table>\n",
       "    <tr>\n",
       "        <th>Type IRIS</th>\n",
       "        <th>Sum(Conso totale (MWh)) for Type EPCI = ZZ</th>\n",
       "        <th>Sum(Conso totale (MWh)) for Type EPCI = CU</th>\n",
       "    </tr>\n",
       "    <tr>\n",
       "        <td>Z</td>\n",
       "        <td>137349</td>\n",
       "        <td>54856</td>\n",
       "    </tr>\n",
       "</table>"
      ],
      "text/plain": [
       "[('Z', Decimal('137349'), Decimal('54856'))]"
      ]
     },
     "execution_count": 48,
     "metadata": {},
     "output_type": "execute_result"
    }
   ],
   "source": [
    "%%sql\n",
    "select t1.\"Type IRIS\", \n",
    "       t1.measure1 as \"Sum(Conso totale (MWh)) for Type EPCI = ZZ\", t2.measure2 as \"Sum(Conso totale (MWh)) for Type EPCI = CU\"  \n",
    "from \n",
    "  (select \"Type EPCI\", \"Type IRIS\", sum(\"Conso totale (MWh)\") as measure1 \n",
    "   from conso_iris \n",
    "   where  \"Type EPCI\" = 'ZZ' \n",
    "   group by \"Type EPCI\", \"Type IRIS\") t1, \n",
    "  (select \"Type EPCI\", \"Type IRIS\",sum(\"Conso totale (MWh)\") as measure2 \n",
    "   from conso_iris \n",
    "   where \"Type EPCI\" = 'CU' \n",
    "   group by \"Type EPCI\", \"Type IRIS\") t2 \n",
    "where t1.\"Type IRIS\" = t2.\"Type IRIS\" order by \"Type IRIS\"; \n"
   ]
  },
  {
   "cell_type": "markdown",
   "id": "mediterranean-johns",
   "metadata": {},
   "source": [
    "### Query 3\n",
    " \n",
    "For measure Sum of \"Conso totale (MWh)\" \n",
    "Comparing \"Type EPCI\" ZZ vs nd \n",
    "grouped by \"Type IRIS\" \n",
    "\n",
    "Insight is: Mean Smaller for ZZ \n",
    "\n",
    "\n"
   ]
  },
  {
   "cell_type": "code",
   "execution_count": 49,
   "id": "accomplished-musician",
   "metadata": {},
   "outputs": [
    {
     "name": "stdout",
     "output_type": "stream",
     "text": [
      "1 rows affected.\n"
     ]
    },
    {
     "data": {
      "text/html": [
       "<table>\n",
       "    <tr>\n",
       "        <th>Type IRIS</th>\n",
       "        <th>Sum(Conso totale (MWh)) for Type EPCI = ZZ</th>\n",
       "        <th>Sum(Conso totale (MWh)) for Type EPCI = nd</th>\n",
       "    </tr>\n",
       "    <tr>\n",
       "        <td>Z</td>\n",
       "        <td>137349</td>\n",
       "        <td>421387</td>\n",
       "    </tr>\n",
       "</table>"
      ],
      "text/plain": [
       "[('Z', Decimal('137349'), Decimal('421387'))]"
      ]
     },
     "execution_count": 49,
     "metadata": {},
     "output_type": "execute_result"
    }
   ],
   "source": [
    "%%sql\n",
    "select t1.\"Type IRIS\", \n",
    "       t1.measure1 as \"Sum(Conso totale (MWh)) for Type EPCI = ZZ\", t2.measure2 as \"Sum(Conso totale (MWh)) for Type EPCI = nd\"  \n",
    "from \n",
    "  (select \"Type EPCI\", \"Type IRIS\", sum(\"Conso totale (MWh)\") as measure1 \n",
    "   from conso_iris \n",
    "   where  \"Type EPCI\" = 'ZZ' \n",
    "   group by \"Type EPCI\", \"Type IRIS\") t1, \n",
    "  (select \"Type EPCI\", \"Type IRIS\",sum(\"Conso totale (MWh)\") as measure2 \n",
    "   from conso_iris \n",
    "   where \"Type EPCI\" = 'nd' \n",
    "   group by \"Type EPCI\", \"Type IRIS\") t2 \n",
    "where t1.\"Type IRIS\" = t2.\"Type IRIS\" order by \"Type IRIS\"; \n"
   ]
  },
  {
   "cell_type": "markdown",
   "id": "sitting-color",
   "metadata": {},
   "source": [
    "### Query 4\n",
    " \n",
    "For measure Sum of \"Conso totale (MWh)\" \n",
    "Comparing \"Type EPCI\" ZZ vs 0 \n",
    "grouped by \"Type IRIS\" \n",
    "\n",
    "Insight is: Mean Greater for ZZ \n",
    "\n",
    "\n"
   ]
  },
  {
   "cell_type": "code",
   "execution_count": 50,
   "id": "norwegian-discharge",
   "metadata": {},
   "outputs": [
    {
     "name": "stdout",
     "output_type": "stream",
     "text": [
      "1 rows affected.\n"
     ]
    },
    {
     "data": {
      "text/html": [
       "<table>\n",
       "    <tr>\n",
       "        <th>Type IRIS</th>\n",
       "        <th>Sum(Conso totale (MWh)) for Type EPCI = ZZ</th>\n",
       "        <th>Sum(Conso totale (MWh)) for Type EPCI = 0</th>\n",
       "    </tr>\n",
       "    <tr>\n",
       "        <td>Z</td>\n",
       "        <td>137349</td>\n",
       "        <td>118792</td>\n",
       "    </tr>\n",
       "</table>"
      ],
      "text/plain": [
       "[('Z', Decimal('137349'), Decimal('118792'))]"
      ]
     },
     "execution_count": 50,
     "metadata": {},
     "output_type": "execute_result"
    }
   ],
   "source": [
    "%%sql\n",
    "select t1.\"Type IRIS\", \n",
    "       t1.measure1 as \"Sum(Conso totale (MWh)) for Type EPCI = ZZ\", t2.measure2 as \"Sum(Conso totale (MWh)) for Type EPCI = 0\"  \n",
    "from \n",
    "  (select \"Type EPCI\", \"Type IRIS\", sum(\"Conso totale (MWh)\") as measure1 \n",
    "   from conso_iris \n",
    "   where  \"Type EPCI\" = 'ZZ' \n",
    "   group by \"Type EPCI\", \"Type IRIS\") t1, \n",
    "  (select \"Type EPCI\", \"Type IRIS\",sum(\"Conso totale (MWh)\") as measure2 \n",
    "   from conso_iris \n",
    "   where \"Type EPCI\" = '0' \n",
    "   group by \"Type EPCI\", \"Type IRIS\") t2 \n",
    "where t1.\"Type IRIS\" = t2.\"Type IRIS\" order by \"Type IRIS\"; \n"
   ]
  },
  {
   "cell_type": "markdown",
   "id": "mathematical-binary",
   "metadata": {},
   "source": [
    "### Query 5\n",
    " \n",
    "For measure Sum of \"Conso totale (MWh)\" \n",
    "Comparing \"Type EPCI\" 0 vs nd \n",
    "grouped by \"CODE GRAND SECTEUR\" \n",
    "\n",
    "Insight is: Mean Smaller for 0 \n",
    "\n",
    "\n"
   ]
  },
  {
   "cell_type": "code",
   "execution_count": 51,
   "id": "attended-field",
   "metadata": {},
   "outputs": [
    {
     "name": "stdout",
     "output_type": "stream",
     "text": [
      "6 rows affected.\n"
     ]
    },
    {
     "data": {
      "text/html": [
       "<table>\n",
       "    <tr>\n",
       "        <th>CODE GRAND SECTEUR</th>\n",
       "        <th>Sum(Conso totale (MWh)) for Type EPCI = 0</th>\n",
       "        <th>Sum(Conso totale (MWh)) for Type EPCI = nd</th>\n",
       "    </tr>\n",
       "    <tr>\n",
       "        <td>AGRICULTURE</td>\n",
       "        <td>10603</td>\n",
       "        <td>3729</td>\n",
       "    </tr>\n",
       "    <tr>\n",
       "        <td>INCONNU</td>\n",
       "        <td>0</td>\n",
       "        <td>201</td>\n",
       "    </tr>\n",
       "    <tr>\n",
       "        <td>INDUSTRIE</td>\n",
       "        <td>23496</td>\n",
       "        <td>160367</td>\n",
       "    </tr>\n",
       "    <tr>\n",
       "        <td>PETIT_PROFESSIONNEL</td>\n",
       "        <td>19969</td>\n",
       "        <td>106362</td>\n",
       "    </tr>\n",
       "    <tr>\n",
       "        <td>RESIDENTIEL</td>\n",
       "        <td>59953</td>\n",
       "        <td>353595</td>\n",
       "    </tr>\n",
       "    <tr>\n",
       "        <td>TERTIAIRE</td>\n",
       "        <td>4771</td>\n",
       "        <td>259542</td>\n",
       "    </tr>\n",
       "</table>"
      ],
      "text/plain": [
       "[('AGRICULTURE', Decimal('10603'), Decimal('3729')),\n",
       " ('INCONNU', Decimal('0'), Decimal('201')),\n",
       " ('INDUSTRIE', Decimal('23496'), Decimal('160367')),\n",
       " ('PETIT_PROFESSIONNEL', Decimal('19969'), Decimal('106362')),\n",
       " ('RESIDENTIEL', Decimal('59953'), Decimal('353595')),\n",
       " ('TERTIAIRE', Decimal('4771'), Decimal('259542'))]"
      ]
     },
     "execution_count": 51,
     "metadata": {},
     "output_type": "execute_result"
    }
   ],
   "source": [
    "%%sql\n",
    "select t1.\"CODE GRAND SECTEUR\", \n",
    "       t1.measure1 as \"Sum(Conso totale (MWh)) for Type EPCI = 0\", t2.measure2 as \"Sum(Conso totale (MWh)) for Type EPCI = nd\"  \n",
    "from \n",
    "  (select \"Type EPCI\", \"CODE GRAND SECTEUR\", sum(\"Conso totale (MWh)\") as measure1 \n",
    "   from conso_iris \n",
    "   where  \"Type EPCI\" = '0' \n",
    "   group by \"Type EPCI\", \"CODE GRAND SECTEUR\") t1, \n",
    "  (select \"Type EPCI\", \"CODE GRAND SECTEUR\",sum(\"Conso totale (MWh)\") as measure2 \n",
    "   from conso_iris \n",
    "   where \"Type EPCI\" = 'nd' \n",
    "   group by \"Type EPCI\", \"CODE GRAND SECTEUR\") t2 \n",
    "where t1.\"CODE GRAND SECTEUR\" = t2.\"CODE GRAND SECTEUR\" order by \"CODE GRAND SECTEUR\"; \n"
   ]
  },
  {
   "cell_type": "markdown",
   "id": "broke-andorra",
   "metadata": {},
   "source": [
    "### Query 6\n",
    " \n",
    "For measure Sum of \"Conso moyenne (MWh)\" \n",
    "Comparing \"Type EPCI\" 0 vs nd \n",
    "grouped by \"Type IRIS\" \n",
    "\n",
    "Insight is: Mean Smaller for 0 \n",
    "\n",
    "\n"
   ]
  },
  {
   "cell_type": "code",
   "execution_count": 52,
   "id": "approximate-inspector",
   "metadata": {},
   "outputs": [
    {
     "name": "stdout",
     "output_type": "stream",
     "text": [
      "1 rows affected.\n"
     ]
    },
    {
     "data": {
      "text/html": [
       "<table>\n",
       "    <tr>\n",
       "        <th>Type IRIS</th>\n",
       "        <th>Sum(Conso moyenne (MWh)) for Type EPCI = 0</th>\n",
       "        <th>Sum(Conso moyenne (MWh)) for Type EPCI = nd</th>\n",
       "    </tr>\n",
       "    <tr>\n",
       "        <td>Z</td>\n",
       "        <td>11162</td>\n",
       "        <td>31245</td>\n",
       "    </tr>\n",
       "</table>"
      ],
      "text/plain": [
       "[('Z', Decimal('11162'), Decimal('31245'))]"
      ]
     },
     "execution_count": 52,
     "metadata": {},
     "output_type": "execute_result"
    }
   ],
   "source": [
    "%%sql\n",
    "select t1.\"Type IRIS\", \n",
    "       t1.measure1 as \"Sum(Conso moyenne (MWh)) for Type EPCI = 0\", t2.measure2 as \"Sum(Conso moyenne (MWh)) for Type EPCI = nd\"  \n",
    "from \n",
    "  (select \"Type EPCI\", \"Type IRIS\", sum(\"Conso moyenne (MWh)\") as measure1 \n",
    "   from conso_iris \n",
    "   where  \"Type EPCI\" = '0' \n",
    "   group by \"Type EPCI\", \"Type IRIS\") t1, \n",
    "  (select \"Type EPCI\", \"Type IRIS\",sum(\"Conso moyenne (MWh)\") as measure2 \n",
    "   from conso_iris \n",
    "   where \"Type EPCI\" = 'nd' \n",
    "   group by \"Type EPCI\", \"Type IRIS\") t2 \n",
    "where t1.\"Type IRIS\" = t2.\"Type IRIS\" order by \"Type IRIS\"; \n"
   ]
  },
  {
   "cell_type": "markdown",
   "id": "complete-rating",
   "metadata": {},
   "source": [
    "### Query 7\n",
    " \n",
    "For measure Sum of \"Conso moyenne (MWh)\" \n",
    "Comparing \"Type EPCI\" 0 vs CU \n",
    "grouped by \"Type IRIS\" \n",
    "\n",
    "Insight is: Mean Greater for 0 \n",
    "\n",
    "\n"
   ]
  },
  {
   "cell_type": "code",
   "execution_count": 53,
   "id": "prepared-pilot",
   "metadata": {},
   "outputs": [
    {
     "name": "stdout",
     "output_type": "stream",
     "text": [
      "1 rows affected.\n"
     ]
    },
    {
     "data": {
      "text/html": [
       "<table>\n",
       "    <tr>\n",
       "        <th>Type IRIS</th>\n",
       "        <th>Sum(Conso moyenne (MWh)) for Type EPCI = 0</th>\n",
       "        <th>Sum(Conso moyenne (MWh)) for Type EPCI = CU</th>\n",
       "    </tr>\n",
       "    <tr>\n",
       "        <td>Z</td>\n",
       "        <td>11162</td>\n",
       "        <td>3268</td>\n",
       "    </tr>\n",
       "</table>"
      ],
      "text/plain": [
       "[('Z', Decimal('11162'), Decimal('3268'))]"
      ]
     },
     "execution_count": 53,
     "metadata": {},
     "output_type": "execute_result"
    }
   ],
   "source": [
    "%%sql\n",
    "select t1.\"Type IRIS\", \n",
    "       t1.measure1 as \"Sum(Conso moyenne (MWh)) for Type EPCI = 0\", t2.measure2 as \"Sum(Conso moyenne (MWh)) for Type EPCI = CU\"  \n",
    "from \n",
    "  (select \"Type EPCI\", \"Type IRIS\", sum(\"Conso moyenne (MWh)\") as measure1 \n",
    "   from conso_iris \n",
    "   where  \"Type EPCI\" = '0' \n",
    "   group by \"Type EPCI\", \"Type IRIS\") t1, \n",
    "  (select \"Type EPCI\", \"Type IRIS\",sum(\"Conso moyenne (MWh)\") as measure2 \n",
    "   from conso_iris \n",
    "   where \"Type EPCI\" = 'CU' \n",
    "   group by \"Type EPCI\", \"Type IRIS\") t2 \n",
    "where t1.\"Type IRIS\" = t2.\"Type IRIS\" order by \"Type IRIS\"; \n"
   ]
  },
  {
   "cell_type": "markdown",
   "id": "exotic-words",
   "metadata": {},
   "source": [
    "### Query 8\n",
    " \n",
    "For measure Sum of \"Conso totale (MWh)\" \n",
    "Comparing \"Type EPCI\" 0 vs CU \n",
    "grouped by \"Nom Département\" \n",
    "\n",
    "Insight is: Mean Smaller for 0 \n",
    "\n",
    "\n"
   ]
  },
  {
   "cell_type": "code",
   "execution_count": 54,
   "id": "dressed-alcohol",
   "metadata": {},
   "outputs": [
    {
     "name": "stdout",
     "output_type": "stream",
     "text": [
      "1 rows affected.\n"
     ]
    },
    {
     "data": {
      "text/html": [
       "<table>\n",
       "    <tr>\n",
       "        <th>Nom Département</th>\n",
       "        <th>Sum(Conso totale (MWh)) for Type EPCI = 0</th>\n",
       "        <th>Sum(Conso totale (MWh)) for Type EPCI = CU</th>\n",
       "    </tr>\n",
       "    <tr>\n",
       "        <td>Finistère</td>\n",
       "        <td>9136</td>\n",
       "        <td>3747913</td>\n",
       "    </tr>\n",
       "</table>"
      ],
      "text/plain": [
       "[('Finistère', Decimal('9136'), Decimal('3747913'))]"
      ]
     },
     "execution_count": 54,
     "metadata": {},
     "output_type": "execute_result"
    }
   ],
   "source": [
    "%%sql\n",
    "select t1.\"Nom Département\", \n",
    "       t1.measure1 as \"Sum(Conso totale (MWh)) for Type EPCI = 0\", t2.measure2 as \"Sum(Conso totale (MWh)) for Type EPCI = CU\"  \n",
    "from \n",
    "  (select \"Type EPCI\", \"Nom Département\", sum(\"Conso totale (MWh)\") as measure1 \n",
    "   from conso_iris \n",
    "   where  \"Type EPCI\" = '0' \n",
    "   group by \"Type EPCI\", \"Nom Département\") t1, \n",
    "  (select \"Type EPCI\", \"Nom Département\",sum(\"Conso totale (MWh)\") as measure2 \n",
    "   from conso_iris \n",
    "   where \"Type EPCI\" = 'CU' \n",
    "   group by \"Type EPCI\", \"Nom Département\") t2 \n",
    "where t1.\"Nom Département\" = t2.\"Nom Département\" order by \"Nom Département\"; \n"
   ]
  },
  {
   "cell_type": "markdown",
   "id": "informational-rally",
   "metadata": {},
   "source": [
    "### Query 9\n",
    " \n",
    "For measure Sum of \"Conso moyenne (MWh)\" \n",
    "Comparing \"Type EPCI\" ZZ vs nd \n",
    "grouped by \"Nom Département\" \n",
    "\n",
    "Insight is: Mean Greater for ZZ \n",
    "\n",
    "\n"
   ]
  },
  {
   "cell_type": "code",
   "execution_count": 55,
   "id": "sophisticated-norwegian",
   "metadata": {},
   "outputs": [
    {
     "name": "stdout",
     "output_type": "stream",
     "text": [
      "2 rows affected.\n"
     ]
    },
    {
     "data": {
      "text/html": [
       "<table>\n",
       "    <tr>\n",
       "        <th>Nom Département</th>\n",
       "        <th>Sum(Conso moyenne (MWh)) for Type EPCI = ZZ</th>\n",
       "        <th>Sum(Conso moyenne (MWh)) for Type EPCI = nd</th>\n",
       "    </tr>\n",
       "    <tr>\n",
       "        <td>Côtes-d&#x27;Armor</td>\n",
       "        <td>26105</td>\n",
       "        <td>6748</td>\n",
       "    </tr>\n",
       "    <tr>\n",
       "        <td>Finistère</td>\n",
       "        <td>590</td>\n",
       "        <td>1077</td>\n",
       "    </tr>\n",
       "</table>"
      ],
      "text/plain": [
       "[(\"Côtes-d'Armor\", Decimal('26105'), Decimal('6748')),\n",
       " ('Finistère', Decimal('590'), Decimal('1077'))]"
      ]
     },
     "execution_count": 55,
     "metadata": {},
     "output_type": "execute_result"
    }
   ],
   "source": [
    "%%sql\n",
    "select t1.\"Nom Département\", \n",
    "       t1.measure1 as \"Sum(Conso moyenne (MWh)) for Type EPCI = ZZ\", t2.measure2 as \"Sum(Conso moyenne (MWh)) for Type EPCI = nd\"  \n",
    "from \n",
    "  (select \"Type EPCI\", \"Nom Département\", sum(\"Conso moyenne (MWh)\") as measure1 \n",
    "   from conso_iris \n",
    "   where  \"Type EPCI\" = 'ZZ' \n",
    "   group by \"Type EPCI\", \"Nom Département\") t1, \n",
    "  (select \"Type EPCI\", \"Nom Département\",sum(\"Conso moyenne (MWh)\") as measure2 \n",
    "   from conso_iris \n",
    "   where \"Type EPCI\" = 'nd' \n",
    "   group by \"Type EPCI\", \"Nom Département\") t2 \n",
    "where t1.\"Nom Département\" = t2.\"Nom Département\" order by \"Nom Département\"; \n"
   ]
  },
  {
   "cell_type": "code",
   "execution_count": null,
   "id": "adjacent-station",
   "metadata": {},
   "outputs": [],
   "source": []
  },
  {
   "cell_type": "code",
   "execution_count": null,
   "id": "medieval-protest",
   "metadata": {},
   "outputs": [],
   "source": []
  },
  {
   "cell_type": "code",
   "execution_count": null,
   "id": "blessed-elite",
   "metadata": {},
   "outputs": [],
   "source": []
  }
 ],
 "metadata": {
  "kernelspec": {
   "display_name": "Python 3",
   "language": "python",
   "name": "python3"
  },
  "language_info": {
   "codemirror_mode": {
    "name": "ipython",
    "version": 3
   },
   "file_extension": ".py",
   "mimetype": "text/x-python",
   "name": "python",
   "nbconvert_exporter": "python",
   "pygments_lexer": "ipython3",
   "version": "3.8.10"
  }
 },
 "nbformat": 4,
 "nbformat_minor": 5
}
