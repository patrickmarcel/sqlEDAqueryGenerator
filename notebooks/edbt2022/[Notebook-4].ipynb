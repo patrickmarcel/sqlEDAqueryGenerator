{
 "cells": [
  {
   "cell_type": "markdown",
   "id": "frequent-consultancy",
   "metadata": {},
   "source": [
    "# SQL comparison notebooks <dataset_name>\n",
    "This data analysis was automatically generated using the TAP algorithm."
   ]
  },
  {
   "cell_type": "code",
   "execution_count": 45,
   "id": "applied-backup",
   "metadata": {},
   "outputs": [
    {
     "name": "stdout",
     "output_type": "stream",
     "text": [
      "The sql extension is already loaded. To reload it, use:\n",
      "  %reload_ext sql\n"
     ]
    }
   ],
   "source": [
    "import sqlalchemy\n",
    "sqlalchemy.create_engine(\"postgresql://localhost:5432/covid?user=marcel&password=1598marcel\")\n",
    "%load_ext sql\n",
    "%sql postgresql://localhost:5432/covid?user=marcel&password=1598marcel\n",
    "%config SqlMagic.displaycon=False"
   ]
  },
  {
   "cell_type": "markdown",
   "id": "ceramic-villa",
   "metadata": {},
   "source": [
    "### Query 1\n",
    " \n",
    "For measure Sum of \"Conso moyenne (MWh)\" \n",
    "Comparing \"Type EPCI\" ZZ vs nd \n",
    "grouped by \"Nom Département\" \n",
    "\n",
    "Insight is: Mean Greater for ZZ \n",
    "\n",
    "\n"
   ]
  },
  {
   "cell_type": "code",
   "execution_count": 46,
   "id": "prepared-wales",
   "metadata": {},
   "outputs": [
    {
     "name": "stdout",
     "output_type": "stream",
     "text": [
      "2 rows affected.\n"
     ]
    },
    {
     "data": {
      "text/html": [
       "<table>\n",
       "    <tr>\n",
       "        <th>Nom Département</th>\n",
       "        <th>Sum(Conso moyenne (MWh)) for Type EPCI = ZZ</th>\n",
       "        <th>Sum(Conso moyenne (MWh)) for Type EPCI = nd</th>\n",
       "    </tr>\n",
       "    <tr>\n",
       "        <td>Côtes-d&#x27;Armor</td>\n",
       "        <td>26105</td>\n",
       "        <td>6748</td>\n",
       "    </tr>\n",
       "    <tr>\n",
       "        <td>Finistère</td>\n",
       "        <td>590</td>\n",
       "        <td>1077</td>\n",
       "    </tr>\n",
       "</table>"
      ],
      "text/plain": [
       "[(\"Côtes-d'Armor\", Decimal('26105'), Decimal('6748')),\n",
       " ('Finistère', Decimal('590'), Decimal('1077'))]"
      ]
     },
     "execution_count": 46,
     "metadata": {},
     "output_type": "execute_result"
    }
   ],
   "source": [
    "%%sql\n",
    "select t1.\"Nom Département\", \n",
    "       t1.measure1 as \"Sum(Conso moyenne (MWh)) for Type EPCI = ZZ\", t2.measure2 as \"Sum(Conso moyenne (MWh)) for Type EPCI = nd\"  \n",
    "from \n",
    "  (select \"Type EPCI\", \"Nom Département\", sum(\"Conso moyenne (MWh)\") as measure1 \n",
    "   from conso_iris \n",
    "   where  \"Type EPCI\" = 'ZZ' \n",
    "   group by \"Type EPCI\", \"Nom Département\") t1, \n",
    "  (select \"Type EPCI\", \"Nom Département\",sum(\"Conso moyenne (MWh)\") as measure2 \n",
    "   from conso_iris \n",
    "   where \"Type EPCI\" = 'nd' \n",
    "   group by \"Type EPCI\", \"Nom Département\") t2 \n",
    "where t1.\"Nom Département\" = t2.\"Nom Département\" order by \"Nom Département\"; \n"
   ]
  },
  {
   "cell_type": "markdown",
   "id": "assured-offer",
   "metadata": {},
   "source": [
    "### Query 2\n",
    " \n",
    "For measure Sum of \"Conso moyenne (MWh)\" \n",
    "Comparing \"Type EPCI\" 0 vs CU \n",
    "grouped by \"Type IRIS\" \n",
    "\n",
    "Insight is: Mean Greater for 0 \n",
    "\n",
    "\n"
   ]
  },
  {
   "cell_type": "code",
   "execution_count": 47,
   "id": "closing-identifier",
   "metadata": {},
   "outputs": [
    {
     "name": "stdout",
     "output_type": "stream",
     "text": [
      "1 rows affected.\n"
     ]
    },
    {
     "data": {
      "text/html": [
       "<table>\n",
       "    <tr>\n",
       "        <th>Type IRIS</th>\n",
       "        <th>Sum(Conso moyenne (MWh)) for Type EPCI = 0</th>\n",
       "        <th>Sum(Conso moyenne (MWh)) for Type EPCI = CU</th>\n",
       "    </tr>\n",
       "    <tr>\n",
       "        <td>Z</td>\n",
       "        <td>11162</td>\n",
       "        <td>3268</td>\n",
       "    </tr>\n",
       "</table>"
      ],
      "text/plain": [
       "[('Z', Decimal('11162'), Decimal('3268'))]"
      ]
     },
     "execution_count": 47,
     "metadata": {},
     "output_type": "execute_result"
    }
   ],
   "source": [
    "%%sql\n",
    "select t1.\"Type IRIS\", \n",
    "       t1.measure1 as \"Sum(Conso moyenne (MWh)) for Type EPCI = 0\", t2.measure2 as \"Sum(Conso moyenne (MWh)) for Type EPCI = CU\"  \n",
    "from \n",
    "  (select \"Type EPCI\", \"Type IRIS\", sum(\"Conso moyenne (MWh)\") as measure1 \n",
    "   from conso_iris \n",
    "   where  \"Type EPCI\" = '0' \n",
    "   group by \"Type EPCI\", \"Type IRIS\") t1, \n",
    "  (select \"Type EPCI\", \"Type IRIS\",sum(\"Conso moyenne (MWh)\") as measure2 \n",
    "   from conso_iris \n",
    "   where \"Type EPCI\" = 'CU' \n",
    "   group by \"Type EPCI\", \"Type IRIS\") t2 \n",
    "where t1.\"Type IRIS\" = t2.\"Type IRIS\" order by \"Type IRIS\"; \n"
   ]
  },
  {
   "cell_type": "markdown",
   "id": "encouraging-robertson",
   "metadata": {},
   "source": [
    "### Query 3\n",
    " \n",
    "For measure Sum of \"Conso moyenne (MWh)\" \n",
    "Comparing \"Type EPCI\" ZZ vs CU \n",
    "grouped by \"Type IRIS\" \n",
    "\n",
    "Insight is: Mean Greater for ZZ \n",
    "\n",
    "\n"
   ]
  },
  {
   "cell_type": "code",
   "execution_count": 48,
   "id": "middle-calendar",
   "metadata": {},
   "outputs": [
    {
     "name": "stdout",
     "output_type": "stream",
     "text": [
      "1 rows affected.\n"
     ]
    },
    {
     "data": {
      "text/html": [
       "<table>\n",
       "    <tr>\n",
       "        <th>Type IRIS</th>\n",
       "        <th>Sum(Conso moyenne (MWh)) for Type EPCI = ZZ</th>\n",
       "        <th>Sum(Conso moyenne (MWh)) for Type EPCI = CU</th>\n",
       "    </tr>\n",
       "    <tr>\n",
       "        <td>Z</td>\n",
       "        <td>26695</td>\n",
       "        <td>3268</td>\n",
       "    </tr>\n",
       "</table>"
      ],
      "text/plain": [
       "[('Z', Decimal('26695'), Decimal('3268'))]"
      ]
     },
     "execution_count": 48,
     "metadata": {},
     "output_type": "execute_result"
    }
   ],
   "source": [
    "%%sql\n",
    "select t1.\"Type IRIS\", \n",
    "       t1.measure1 as \"Sum(Conso moyenne (MWh)) for Type EPCI = ZZ\", t2.measure2 as \"Sum(Conso moyenne (MWh)) for Type EPCI = CU\"  \n",
    "from \n",
    "  (select \"Type EPCI\", \"Type IRIS\", sum(\"Conso moyenne (MWh)\") as measure1 \n",
    "   from conso_iris \n",
    "   where  \"Type EPCI\" = 'ZZ' \n",
    "   group by \"Type EPCI\", \"Type IRIS\") t1, \n",
    "  (select \"Type EPCI\", \"Type IRIS\",sum(\"Conso moyenne (MWh)\") as measure2 \n",
    "   from conso_iris \n",
    "   where \"Type EPCI\" = 'CU' \n",
    "   group by \"Type EPCI\", \"Type IRIS\") t2 \n",
    "where t1.\"Type IRIS\" = t2.\"Type IRIS\" order by \"Type IRIS\"; \n"
   ]
  },
  {
   "cell_type": "markdown",
   "id": "eligible-wrapping",
   "metadata": {},
   "source": [
    "### Query 4\n",
    " \n",
    "For measure Sum of \"Conso totale (MWh)\" \n",
    "Comparing \"Type EPCI\" ZZ vs CU \n",
    "grouped by \"Type IRIS\" \n",
    "\n",
    "Insight is: Mean Greater for ZZ \n",
    "\n",
    "\n"
   ]
  },
  {
   "cell_type": "code",
   "execution_count": 49,
   "id": "fleet-tours",
   "metadata": {},
   "outputs": [
    {
     "name": "stdout",
     "output_type": "stream",
     "text": [
      "1 rows affected.\n"
     ]
    },
    {
     "data": {
      "text/html": [
       "<table>\n",
       "    <tr>\n",
       "        <th>Type IRIS</th>\n",
       "        <th>Sum(Conso totale (MWh)) for Type EPCI = ZZ</th>\n",
       "        <th>Sum(Conso totale (MWh)) for Type EPCI = CU</th>\n",
       "    </tr>\n",
       "    <tr>\n",
       "        <td>Z</td>\n",
       "        <td>137349</td>\n",
       "        <td>54856</td>\n",
       "    </tr>\n",
       "</table>"
      ],
      "text/plain": [
       "[('Z', Decimal('137349'), Decimal('54856'))]"
      ]
     },
     "execution_count": 49,
     "metadata": {},
     "output_type": "execute_result"
    }
   ],
   "source": [
    "%%sql\n",
    "select t1.\"Type IRIS\", \n",
    "       t1.measure1 as \"Sum(Conso totale (MWh)) for Type EPCI = ZZ\", t2.measure2 as \"Sum(Conso totale (MWh)) for Type EPCI = CU\"  \n",
    "from \n",
    "  (select \"Type EPCI\", \"Type IRIS\", sum(\"Conso totale (MWh)\") as measure1 \n",
    "   from conso_iris \n",
    "   where  \"Type EPCI\" = 'ZZ' \n",
    "   group by \"Type EPCI\", \"Type IRIS\") t1, \n",
    "  (select \"Type EPCI\", \"Type IRIS\",sum(\"Conso totale (MWh)\") as measure2 \n",
    "   from conso_iris \n",
    "   where \"Type EPCI\" = 'CU' \n",
    "   group by \"Type EPCI\", \"Type IRIS\") t2 \n",
    "where t1.\"Type IRIS\" = t2.\"Type IRIS\" order by \"Type IRIS\"; \n"
   ]
  },
  {
   "cell_type": "markdown",
   "id": "executed-absolute",
   "metadata": {},
   "source": [
    "### Query 5\n",
    " \n",
    "For measure Sum of \"Conso totale (MWh)\" \n",
    "Comparing \"CODE GRAND SECTEUR\" INDUSTRIE vs TERTIAIRE \n",
    "grouped by \"CODE CATEGORIE CONSOMMATION\" \n",
    "\n",
    "Insight is: Variance Equals for INDUSTRIE \n",
    "\n",
    "\n"
   ]
  },
  {
   "cell_type": "code",
   "execution_count": 50,
   "id": "ranking-flight",
   "metadata": {},
   "outputs": [
    {
     "name": "stdout",
     "output_type": "stream",
     "text": [
      "2 rows affected.\n"
     ]
    },
    {
     "data": {
      "text/html": [
       "<table>\n",
       "    <tr>\n",
       "        <th>CODE CATEGORIE CONSOMMATION</th>\n",
       "        <th>Sum(Conso totale (MWh)) for CODE GRAND SECTEUR = INDUSTRIE</th>\n",
       "        <th>Sum(Conso totale (MWh)) for CODE GRAND SECTEUR = TERTIAIRE</th>\n",
       "    </tr>\n",
       "    <tr>\n",
       "        <td>ENT</td>\n",
       "        <td>36947068</td>\n",
       "        <td>38454974</td>\n",
       "    </tr>\n",
       "    <tr>\n",
       "        <td>PRO</td>\n",
       "        <td>274374</td>\n",
       "        <td>2673726</td>\n",
       "    </tr>\n",
       "</table>"
      ],
      "text/plain": [
       "[('ENT', Decimal('36947068'), Decimal('38454974')),\n",
       " ('PRO', Decimal('274374'), Decimal('2673726'))]"
      ]
     },
     "execution_count": 50,
     "metadata": {},
     "output_type": "execute_result"
    }
   ],
   "source": [
    "%%sql\n",
    "select t1.\"CODE CATEGORIE CONSOMMATION\", \n",
    "       t1.measure1 as \"Sum(Conso totale (MWh)) for CODE GRAND SECTEUR = INDUSTRIE\", t2.measure2 as \"Sum(Conso totale (MWh)) for CODE GRAND SECTEUR = TERTIAIRE\"  \n",
    "from \n",
    "  (select \"CODE GRAND SECTEUR\", \"CODE CATEGORIE CONSOMMATION\", sum(\"Conso totale (MWh)\") as measure1 \n",
    "   from conso_iris \n",
    "   where  \"CODE GRAND SECTEUR\" = 'INDUSTRIE' \n",
    "   group by \"CODE GRAND SECTEUR\", \"CODE CATEGORIE CONSOMMATION\") t1, \n",
    "  (select \"CODE GRAND SECTEUR\", \"CODE CATEGORIE CONSOMMATION\",sum(\"Conso totale (MWh)\") as measure2 \n",
    "   from conso_iris \n",
    "   where \"CODE GRAND SECTEUR\" = 'TERTIAIRE' \n",
    "   group by \"CODE GRAND SECTEUR\", \"CODE CATEGORIE CONSOMMATION\") t2 \n",
    "where t1.\"CODE CATEGORIE CONSOMMATION\" = t2.\"CODE CATEGORIE CONSOMMATION\" order by \"CODE CATEGORIE CONSOMMATION\"; \n"
   ]
  },
  {
   "cell_type": "markdown",
   "id": "qualified-timing",
   "metadata": {},
   "source": [
    "### Query 6\n",
    " \n",
    "For measure Sum of \"Conso totale (MWh)\" \n",
    "Comparing \"CODE GRAND SECTEUR\" PETIT_PROFESSIONNEL vs TERTIAIRE \n",
    "grouped by \"CODE CATEGORIE CONSOMMATION\" \n",
    "\n",
    "Insight is: Mean Greater for PETIT_PROFESSIONNEL \n",
    "\n",
    "\n"
   ]
  },
  {
   "cell_type": "code",
   "execution_count": 51,
   "id": "derived-reason",
   "metadata": {},
   "outputs": [
    {
     "name": "stdout",
     "output_type": "stream",
     "text": [
      "1 rows affected.\n"
     ]
    },
    {
     "data": {
      "text/html": [
       "<table>\n",
       "    <tr>\n",
       "        <th>CODE CATEGORIE CONSOMMATION</th>\n",
       "        <th>Sum(Conso totale (MWh)) for CODE GRAND SECTEUR = PETIT_PROFESSI</th>\n",
       "        <th>Sum(Conso totale (MWh)) for CODE GRAND SECTEUR = TERTIAIRE</th>\n",
       "    </tr>\n",
       "    <tr>\n",
       "        <td>PRO</td>\n",
       "        <td>17701460</td>\n",
       "        <td>2673726</td>\n",
       "    </tr>\n",
       "</table>"
      ],
      "text/plain": [
       "[('PRO', Decimal('17701460'), Decimal('2673726'))]"
      ]
     },
     "execution_count": 51,
     "metadata": {},
     "output_type": "execute_result"
    }
   ],
   "source": [
    "%%sql\n",
    "select t1.\"CODE CATEGORIE CONSOMMATION\", \n",
    "       t1.measure1 as \"Sum(Conso totale (MWh)) for CODE GRAND SECTEUR = PETIT_PROFESSIONNEL\", t2.measure2 as \"Sum(Conso totale (MWh)) for CODE GRAND SECTEUR = TERTIAIRE\"  \n",
    "from \n",
    "  (select \"CODE GRAND SECTEUR\", \"CODE CATEGORIE CONSOMMATION\", sum(\"Conso totale (MWh)\") as measure1 \n",
    "   from conso_iris \n",
    "   where  \"CODE GRAND SECTEUR\" = 'PETIT_PROFESSIONNEL' \n",
    "   group by \"CODE GRAND SECTEUR\", \"CODE CATEGORIE CONSOMMATION\") t1, \n",
    "  (select \"CODE GRAND SECTEUR\", \"CODE CATEGORIE CONSOMMATION\",sum(\"Conso totale (MWh)\") as measure2 \n",
    "   from conso_iris \n",
    "   where \"CODE GRAND SECTEUR\" = 'TERTIAIRE' \n",
    "   group by \"CODE GRAND SECTEUR\", \"CODE CATEGORIE CONSOMMATION\") t2 \n",
    "where t1.\"CODE CATEGORIE CONSOMMATION\" = t2.\"CODE CATEGORIE CONSOMMATION\" order by \"CODE CATEGORIE CONSOMMATION\"; \n"
   ]
  },
  {
   "cell_type": "markdown",
   "id": "hourly-hindu",
   "metadata": {},
   "source": [
    "### Query 7\n",
    " \n",
    "For measure Sum of \"Conso totale (MWh)\" \n",
    "Comparing \"Nom Département\" Morbihan vs Finistère \n",
    "grouped by \"Type EPCI\" \n",
    "\n",
    "Insight is: Variance Equals for Morbihan, Insight is: Mean Greater for Morbihan \n",
    "\n",
    "\n"
   ]
  },
  {
   "cell_type": "code",
   "execution_count": 52,
   "id": "limiting-offering",
   "metadata": {},
   "outputs": [
    {
     "name": "stdout",
     "output_type": "stream",
     "text": [
      "4 rows affected.\n"
     ]
    },
    {
     "data": {
      "text/html": [
       "<table>\n",
       "    <tr>\n",
       "        <th>Type EPCI</th>\n",
       "        <th>Sum(Conso totale (MWh)) for Nom Département = Morbihan</th>\n",
       "        <th>Sum(Conso totale (MWh)) for Nom Département = Finistère</th>\n",
       "    </tr>\n",
       "    <tr>\n",
       "        <td>0</td>\n",
       "        <td>41565</td>\n",
       "        <td>9136</td>\n",
       "    </tr>\n",
       "    <tr>\n",
       "        <td>CA</td>\n",
       "        <td>16783244</td>\n",
       "        <td>12244287</td>\n",
       "    </tr>\n",
       "    <tr>\n",
       "        <td>CC</td>\n",
       "        <td>25620032</td>\n",
       "        <td>26689541</td>\n",
       "    </tr>\n",
       "    <tr>\n",
       "        <td>nd</td>\n",
       "        <td>518907</td>\n",
       "        <td>29978</td>\n",
       "    </tr>\n",
       "</table>"
      ],
      "text/plain": [
       "[('0', Decimal('41565'), Decimal('9136')),\n",
       " ('CA', Decimal('16783244'), Decimal('12244287')),\n",
       " ('CC', Decimal('25620032'), Decimal('26689541')),\n",
       " ('nd', Decimal('518907'), Decimal('29978'))]"
      ]
     },
     "execution_count": 52,
     "metadata": {},
     "output_type": "execute_result"
    }
   ],
   "source": [
    "%%sql\n",
    "select t1.\"Type EPCI\", \n",
    "       t1.measure1 as \"Sum(Conso totale (MWh)) for Nom Département = Morbihan\", t2.measure2 as \"Sum(Conso totale (MWh)) for Nom Département = Finistère\"  \n",
    "from \n",
    "  (select \"Nom Département\", \"Type EPCI\", sum(\"Conso totale (MWh)\") as measure1 \n",
    "   from conso_iris \n",
    "   where  \"Nom Département\" = 'Morbihan' \n",
    "   group by \"Nom Département\", \"Type EPCI\") t1, \n",
    "  (select \"Nom Département\", \"Type EPCI\",sum(\"Conso totale (MWh)\") as measure2 \n",
    "   from conso_iris \n",
    "   where \"Nom Département\" = 'Finistère' \n",
    "   group by \"Nom Département\", \"Type EPCI\") t2 \n",
    "where t1.\"Type EPCI\" = t2.\"Type EPCI\" order by \"Type EPCI\"; \n"
   ]
  },
  {
   "cell_type": "markdown",
   "id": "suburban-elimination",
   "metadata": {},
   "source": [
    "### Query 8\n",
    " \n",
    "For measure Sum of \"Conso totale (MWh)\" \n",
    "Comparing \"Nom Département\" Morbihan vs Ille-et-Vilaine \n",
    "grouped by \"Type EPCI\" \n",
    "\n",
    "Insight is: Variance Equals for Morbihan \n",
    "\n",
    "\n"
   ]
  },
  {
   "cell_type": "code",
   "execution_count": 53,
   "id": "arbitrary-longitude",
   "metadata": {},
   "outputs": [
    {
     "name": "stdout",
     "output_type": "stream",
     "text": [
      "4 rows affected.\n"
     ]
    },
    {
     "data": {
      "text/html": [
       "<table>\n",
       "    <tr>\n",
       "        <th>Type EPCI</th>\n",
       "        <th>Sum(Conso totale (MWh)) for Nom Département = Morbihan</th>\n",
       "        <th>Sum(Conso totale (MWh)) for Nom Département = Ille-et-Vilaine</th>\n",
       "    </tr>\n",
       "    <tr>\n",
       "        <td>0</td>\n",
       "        <td>41565</td>\n",
       "        <td>20222</td>\n",
       "    </tr>\n",
       "    <tr>\n",
       "        <td>CA</td>\n",
       "        <td>16783244</td>\n",
       "        <td>20698576</td>\n",
       "    </tr>\n",
       "    <tr>\n",
       "        <td>CC</td>\n",
       "        <td>25620032</td>\n",
       "        <td>23168954</td>\n",
       "    </tr>\n",
       "    <tr>\n",
       "        <td>nd</td>\n",
       "        <td>518907</td>\n",
       "        <td>163399</td>\n",
       "    </tr>\n",
       "</table>"
      ],
      "text/plain": [
       "[('0', Decimal('41565'), Decimal('20222')),\n",
       " ('CA', Decimal('16783244'), Decimal('20698576')),\n",
       " ('CC', Decimal('25620032'), Decimal('23168954')),\n",
       " ('nd', Decimal('518907'), Decimal('163399'))]"
      ]
     },
     "execution_count": 53,
     "metadata": {},
     "output_type": "execute_result"
    }
   ],
   "source": [
    "%%sql\n",
    "select t1.\"Type EPCI\", \n",
    "       t1.measure1 as \"Sum(Conso totale (MWh)) for Nom Département = Morbihan\", t2.measure2 as \"Sum(Conso totale (MWh)) for Nom Département = Ille-et-Vilaine\"  \n",
    "from \n",
    "  (select \"Nom Département\", \"Type EPCI\", sum(\"Conso totale (MWh)\") as measure1 \n",
    "   from conso_iris \n",
    "   where  \"Nom Département\" = 'Morbihan' \n",
    "   group by \"Nom Département\", \"Type EPCI\") t1, \n",
    "  (select \"Nom Département\", \"Type EPCI\",sum(\"Conso totale (MWh)\") as measure2 \n",
    "   from conso_iris \n",
    "   where \"Nom Département\" = 'Ille-et-Vilaine' \n",
    "   group by \"Nom Département\", \"Type EPCI\") t2 \n",
    "where t1.\"Type EPCI\" = t2.\"Type EPCI\" order by \"Type EPCI\"; \n"
   ]
  },
  {
   "cell_type": "markdown",
   "id": "ahead-capacity",
   "metadata": {},
   "source": [
    "### Query 9\n",
    " \n",
    "For measure Sum of \"Conso moyenne (MWh)\" \n",
    "Comparing \"Nom Département\" Morbihan vs Ille-et-Vilaine \n",
    "grouped by \"Type EPCI\" \n",
    "\n",
    "Insight is: Mean Greater for Morbihan \n",
    "\n",
    "\n"
   ]
  },
  {
   "cell_type": "code",
   "execution_count": 54,
   "id": "liked-child",
   "metadata": {},
   "outputs": [
    {
     "name": "stdout",
     "output_type": "stream",
     "text": [
      "4 rows affected.\n"
     ]
    },
    {
     "data": {
      "text/html": [
       "<table>\n",
       "    <tr>\n",
       "        <th>Type EPCI</th>\n",
       "        <th>Sum(Conso moyenne (MWh)) for Nom Département = Morbihan</th>\n",
       "        <th>Sum(Conso moyenne (MWh)) for Nom Département = Ille-et-Vilaine</th>\n",
       "    </tr>\n",
       "    <tr>\n",
       "        <td>0</td>\n",
       "        <td>6137</td>\n",
       "        <td>717</td>\n",
       "    </tr>\n",
       "    <tr>\n",
       "        <td>CA</td>\n",
       "        <td>1519316</td>\n",
       "        <td>2295196</td>\n",
       "    </tr>\n",
       "    <tr>\n",
       "        <td>CC</td>\n",
       "        <td>3376182</td>\n",
       "        <td>2355870</td>\n",
       "    </tr>\n",
       "    <tr>\n",
       "        <td>nd</td>\n",
       "        <td>28891</td>\n",
       "        <td>7734</td>\n",
       "    </tr>\n",
       "</table>"
      ],
      "text/plain": [
       "[('0', Decimal('6137'), Decimal('717')),\n",
       " ('CA', Decimal('1519316'), Decimal('2295196')),\n",
       " ('CC', Decimal('3376182'), Decimal('2355870')),\n",
       " ('nd', Decimal('28891'), Decimal('7734'))]"
      ]
     },
     "execution_count": 54,
     "metadata": {},
     "output_type": "execute_result"
    }
   ],
   "source": [
    "%%sql\n",
    "select t1.\"Type EPCI\", \n",
    "       t1.measure1 as \"Sum(Conso moyenne (MWh)) for Nom Département = Morbihan\", t2.measure2 as \"Sum(Conso moyenne (MWh)) for Nom Département = Ille-et-Vilaine\"  \n",
    "from \n",
    "  (select \"Nom Département\", \"Type EPCI\", sum(\"Conso moyenne (MWh)\") as measure1 \n",
    "   from conso_iris \n",
    "   where  \"Nom Département\" = 'Morbihan' \n",
    "   group by \"Nom Département\", \"Type EPCI\") t1, \n",
    "  (select \"Nom Département\", \"Type EPCI\",sum(\"Conso moyenne (MWh)\") as measure2 \n",
    "   from conso_iris \n",
    "   where \"Nom Département\" = 'Ille-et-Vilaine' \n",
    "   group by \"Nom Département\", \"Type EPCI\") t2 \n",
    "where t1.\"Type EPCI\" = t2.\"Type EPCI\" order by \"Type EPCI\"; \n"
   ]
  },
  {
   "cell_type": "markdown",
   "id": "silent-motel",
   "metadata": {},
   "source": [
    "### Query 10\n",
    " \n",
    "For measure Sum of \"Conso totale (MWh)\" \n",
    "Comparing \"Nom Département\" Finistère vs Ille-et-Vilaine \n",
    "grouped by \"Type EPCI\" \n",
    "\n",
    "Insight is: Variance Equals for Finistère \n",
    "\n",
    "\n"
   ]
  },
  {
   "cell_type": "code",
   "execution_count": 55,
   "id": "dietary-capacity",
   "metadata": {},
   "outputs": [
    {
     "name": "stdout",
     "output_type": "stream",
     "text": [
      "5 rows affected.\n"
     ]
    },
    {
     "data": {
      "text/html": [
       "<table>\n",
       "    <tr>\n",
       "        <th>Type EPCI</th>\n",
       "        <th>Sum(Conso totale (MWh)) for Nom Département = Finistère</th>\n",
       "        <th>Sum(Conso totale (MWh)) for Nom Département = Ille-et-Vilaine</th>\n",
       "    </tr>\n",
       "    <tr>\n",
       "        <td>0</td>\n",
       "        <td>9136</td>\n",
       "        <td>20222</td>\n",
       "    </tr>\n",
       "    <tr>\n",
       "        <td>CA</td>\n",
       "        <td>12244287</td>\n",
       "        <td>20698576</td>\n",
       "    </tr>\n",
       "    <tr>\n",
       "        <td>CC</td>\n",
       "        <td>26689541</td>\n",
       "        <td>23168954</td>\n",
       "    </tr>\n",
       "    <tr>\n",
       "        <td>ME</td>\n",
       "        <td>4675893</td>\n",
       "        <td>10799686</td>\n",
       "    </tr>\n",
       "    <tr>\n",
       "        <td>nd</td>\n",
       "        <td>29978</td>\n",
       "        <td>163399</td>\n",
       "    </tr>\n",
       "</table>"
      ],
      "text/plain": [
       "[('0', Decimal('9136'), Decimal('20222')),\n",
       " ('CA', Decimal('12244287'), Decimal('20698576')),\n",
       " ('CC', Decimal('26689541'), Decimal('23168954')),\n",
       " ('ME', Decimal('4675893'), Decimal('10799686')),\n",
       " ('nd', Decimal('29978'), Decimal('163399'))]"
      ]
     },
     "execution_count": 55,
     "metadata": {},
     "output_type": "execute_result"
    }
   ],
   "source": [
    "%%sql\n",
    "select t1.\"Type EPCI\", \n",
    "       t1.measure1 as \"Sum(Conso totale (MWh)) for Nom Département = Finistère\", t2.measure2 as \"Sum(Conso totale (MWh)) for Nom Département = Ille-et-Vilaine\"  \n",
    "from \n",
    "  (select \"Nom Département\", \"Type EPCI\", sum(\"Conso totale (MWh)\") as measure1 \n",
    "   from conso_iris \n",
    "   where  \"Nom Département\" = 'Finistère' \n",
    "   group by \"Nom Département\", \"Type EPCI\") t1, \n",
    "  (select \"Nom Département\", \"Type EPCI\",sum(\"Conso totale (MWh)\") as measure2 \n",
    "   from conso_iris \n",
    "   where \"Nom Département\" = 'Ille-et-Vilaine' \n",
    "   group by \"Nom Département\", \"Type EPCI\") t2 \n",
    "where t1.\"Type EPCI\" = t2.\"Type EPCI\" order by \"Type EPCI\"; \n"
   ]
  },
  {
   "cell_type": "code",
   "execution_count": null,
   "id": "naked-style",
   "metadata": {},
   "outputs": [],
   "source": []
  },
  {
   "cell_type": "code",
   "execution_count": null,
   "id": "smooth-counter",
   "metadata": {},
   "outputs": [],
   "source": []
  },
  {
   "cell_type": "code",
   "execution_count": null,
   "id": "driving-wiring",
   "metadata": {},
   "outputs": [],
   "source": []
  },
  {
   "cell_type": "code",
   "execution_count": null,
   "id": "maritime-gateway",
   "metadata": {},
   "outputs": [],
   "source": []
  }
 ],
 "metadata": {
  "kernelspec": {
   "display_name": "Python 3",
   "language": "python",
   "name": "python3"
  },
  "language_info": {
   "codemirror_mode": {
    "name": "ipython",
    "version": 3
   },
   "file_extension": ".py",
   "mimetype": "text/x-python",
   "name": "python",
   "nbconvert_exporter": "python",
   "pygments_lexer": "ipython3",
   "version": "3.8.10"
  }
 },
 "nbformat": 4,
 "nbformat_minor": 5
}
