{
 "cells": [
  {
   "cell_type": "markdown",
   "id": "frequent-consultancy",
   "metadata": {},
   "source": [
    "# SQL comparison notebooks <dataset_name>\n",
    "This data analysis was automatically generated using the TAP algorithm."
   ]
  },
  {
   "cell_type": "code",
   "execution_count": 23,
   "id": "applied-backup",
   "metadata": {},
   "outputs": [
    {
     "name": "stdout",
     "output_type": "stream",
     "text": [
      "The sql extension is already loaded. To reload it, use:\n",
      "  %reload_ext sql\n"
     ]
    }
   ],
   "source": [
    "import sqlalchemy\n",
    "sqlalchemy.create_engine(\"postgresql://localhost:5432/covid?user=marcel&password=1598marcel\")\n",
    "%load_ext sql\n",
    "%sql postgresql://localhost:5432/covid?user=marcel&password=1598marcel\n",
    "%config SqlMagic.displaycon=False"
   ]
  },
  {
   "cell_type": "markdown",
   "id": "quiet-invalid",
   "metadata": {},
   "source": [
    "### Query 1\n",
    " \n",
    "For measure Sum of \"Conso totale (MWh)\" \n",
    "Comparing \"Nom Département\" Morbihan vs Finistère \n",
    "grouped by \"Type EPCI\" \n",
    "\n",
    "Insight is: Variance Equals for Morbihan, Insight is: Mean Greater for Morbihan \n",
    "\n",
    "\n"
   ]
  },
  {
   "cell_type": "code",
   "execution_count": 24,
   "id": "still-logic",
   "metadata": {},
   "outputs": [
    {
     "name": "stdout",
     "output_type": "stream",
     "text": [
      "4 rows affected.\n"
     ]
    },
    {
     "data": {
      "text/html": [
       "<table>\n",
       "    <tr>\n",
       "        <th>Type EPCI</th>\n",
       "        <th>Sum(Conso totale (MWh)) for Nom Département = Morbihan</th>\n",
       "        <th>Sum(Conso totale (MWh)) for Nom Département = Finistère</th>\n",
       "    </tr>\n",
       "    <tr>\n",
       "        <td>0</td>\n",
       "        <td>41565</td>\n",
       "        <td>9136</td>\n",
       "    </tr>\n",
       "    <tr>\n",
       "        <td>CA</td>\n",
       "        <td>16783244</td>\n",
       "        <td>12244287</td>\n",
       "    </tr>\n",
       "    <tr>\n",
       "        <td>CC</td>\n",
       "        <td>25620032</td>\n",
       "        <td>26689541</td>\n",
       "    </tr>\n",
       "    <tr>\n",
       "        <td>nd</td>\n",
       "        <td>518907</td>\n",
       "        <td>29978</td>\n",
       "    </tr>\n",
       "</table>"
      ],
      "text/plain": [
       "[('0', Decimal('41565'), Decimal('9136')),\n",
       " ('CA', Decimal('16783244'), Decimal('12244287')),\n",
       " ('CC', Decimal('25620032'), Decimal('26689541')),\n",
       " ('nd', Decimal('518907'), Decimal('29978'))]"
      ]
     },
     "execution_count": 24,
     "metadata": {},
     "output_type": "execute_result"
    }
   ],
   "source": [
    "%%sql\n",
    "select t1.\"Type EPCI\", \n",
    "       t1.measure1 as \"Sum(Conso totale (MWh)) for Nom Département = Morbihan\", t2.measure2 as \"Sum(Conso totale (MWh)) for Nom Département = Finistère\"  \n",
    "from \n",
    "  (select \"Nom Département\", \"Type EPCI\", sum(\"Conso totale (MWh)\") as measure1 \n",
    "   from conso_iris \n",
    "   where  \"Nom Département\" = 'Morbihan' \n",
    "   group by \"Nom Département\", \"Type EPCI\") t1, \n",
    "  (select \"Nom Département\", \"Type EPCI\",sum(\"Conso totale (MWh)\") as measure2 \n",
    "   from conso_iris \n",
    "   where \"Nom Département\" = 'Finistère' \n",
    "   group by \"Nom Département\", \"Type EPCI\") t2 \n",
    "where t1.\"Type EPCI\" = t2.\"Type EPCI\" order by \"Type EPCI\"; \n"
   ]
  },
  {
   "cell_type": "markdown",
   "id": "breeding-guinea",
   "metadata": {},
   "source": [
    "### Query 2\n",
    " \n",
    "For measure Sum of \"Conso totale (MWh)\" \n",
    "Comparing \"Nom Département\" Morbihan vs Ille-et-Vilaine \n",
    "grouped by \"Type EPCI\" \n",
    "\n",
    "Insight is: Variance Equals for Morbihan \n",
    "\n",
    "\n"
   ]
  },
  {
   "cell_type": "code",
   "execution_count": 25,
   "id": "african-enzyme",
   "metadata": {},
   "outputs": [
    {
     "name": "stdout",
     "output_type": "stream",
     "text": [
      "4 rows affected.\n"
     ]
    },
    {
     "data": {
      "text/html": [
       "<table>\n",
       "    <tr>\n",
       "        <th>Type EPCI</th>\n",
       "        <th>Sum(Conso totale (MWh)) for Nom Département = Morbihan</th>\n",
       "        <th>Sum(Conso totale (MWh)) for Nom Département = Ille-et-Vilaine</th>\n",
       "    </tr>\n",
       "    <tr>\n",
       "        <td>0</td>\n",
       "        <td>41565</td>\n",
       "        <td>20222</td>\n",
       "    </tr>\n",
       "    <tr>\n",
       "        <td>CA</td>\n",
       "        <td>16783244</td>\n",
       "        <td>20698576</td>\n",
       "    </tr>\n",
       "    <tr>\n",
       "        <td>CC</td>\n",
       "        <td>25620032</td>\n",
       "        <td>23168954</td>\n",
       "    </tr>\n",
       "    <tr>\n",
       "        <td>nd</td>\n",
       "        <td>518907</td>\n",
       "        <td>163399</td>\n",
       "    </tr>\n",
       "</table>"
      ],
      "text/plain": [
       "[('0', Decimal('41565'), Decimal('20222')),\n",
       " ('CA', Decimal('16783244'), Decimal('20698576')),\n",
       " ('CC', Decimal('25620032'), Decimal('23168954')),\n",
       " ('nd', Decimal('518907'), Decimal('163399'))]"
      ]
     },
     "execution_count": 25,
     "metadata": {},
     "output_type": "execute_result"
    }
   ],
   "source": [
    "%%sql\n",
    "select t1.\"Type EPCI\", \n",
    "       t1.measure1 as \"Sum(Conso totale (MWh)) for Nom Département = Morbihan\", t2.measure2 as \"Sum(Conso totale (MWh)) for Nom Département = Ille-et-Vilaine\"  \n",
    "from \n",
    "  (select \"Nom Département\", \"Type EPCI\", sum(\"Conso totale (MWh)\") as measure1 \n",
    "   from conso_iris \n",
    "   where  \"Nom Département\" = 'Morbihan' \n",
    "   group by \"Nom Département\", \"Type EPCI\") t1, \n",
    "  (select \"Nom Département\", \"Type EPCI\",sum(\"Conso totale (MWh)\") as measure2 \n",
    "   from conso_iris \n",
    "   where \"Nom Département\" = 'Ille-et-Vilaine' \n",
    "   group by \"Nom Département\", \"Type EPCI\") t2 \n",
    "where t1.\"Type EPCI\" = t2.\"Type EPCI\" order by \"Type EPCI\"; \n"
   ]
  },
  {
   "cell_type": "markdown",
   "id": "violent-egypt",
   "metadata": {},
   "source": [
    "### Query 3\n",
    " \n",
    "For measure Sum of \"Conso moyenne (MWh)\" \n",
    "Comparing \"Nom Département\" Morbihan vs Ille-et-Vilaine \n",
    "grouped by \"Type EPCI\" \n",
    "\n",
    "Insight is: Mean Greater for Morbihan \n",
    "\n",
    "\n"
   ]
  },
  {
   "cell_type": "code",
   "execution_count": 26,
   "id": "elect-jefferson",
   "metadata": {},
   "outputs": [
    {
     "name": "stdout",
     "output_type": "stream",
     "text": [
      "4 rows affected.\n"
     ]
    },
    {
     "data": {
      "text/html": [
       "<table>\n",
       "    <tr>\n",
       "        <th>Type EPCI</th>\n",
       "        <th>Sum(Conso moyenne (MWh)) for Nom Département = Morbihan</th>\n",
       "        <th>Sum(Conso moyenne (MWh)) for Nom Département = Ille-et-Vilaine</th>\n",
       "    </tr>\n",
       "    <tr>\n",
       "        <td>0</td>\n",
       "        <td>6137</td>\n",
       "        <td>717</td>\n",
       "    </tr>\n",
       "    <tr>\n",
       "        <td>CA</td>\n",
       "        <td>1519316</td>\n",
       "        <td>2295196</td>\n",
       "    </tr>\n",
       "    <tr>\n",
       "        <td>CC</td>\n",
       "        <td>3376182</td>\n",
       "        <td>2355870</td>\n",
       "    </tr>\n",
       "    <tr>\n",
       "        <td>nd</td>\n",
       "        <td>28891</td>\n",
       "        <td>7734</td>\n",
       "    </tr>\n",
       "</table>"
      ],
      "text/plain": [
       "[('0', Decimal('6137'), Decimal('717')),\n",
       " ('CA', Decimal('1519316'), Decimal('2295196')),\n",
       " ('CC', Decimal('3376182'), Decimal('2355870')),\n",
       " ('nd', Decimal('28891'), Decimal('7734'))]"
      ]
     },
     "execution_count": 26,
     "metadata": {},
     "output_type": "execute_result"
    }
   ],
   "source": [
    "%%sql\n",
    "select t1.\"Type EPCI\", \n",
    "       t1.measure1 as \"Sum(Conso moyenne (MWh)) for Nom Département = Morbihan\", t2.measure2 as \"Sum(Conso moyenne (MWh)) for Nom Département = Ille-et-Vilaine\"  \n",
    "from \n",
    "  (select \"Nom Département\", \"Type EPCI\", sum(\"Conso moyenne (MWh)\") as measure1 \n",
    "   from conso_iris \n",
    "   where  \"Nom Département\" = 'Morbihan' \n",
    "   group by \"Nom Département\", \"Type EPCI\") t1, \n",
    "  (select \"Nom Département\", \"Type EPCI\",sum(\"Conso moyenne (MWh)\") as measure2 \n",
    "   from conso_iris \n",
    "   where \"Nom Département\" = 'Ille-et-Vilaine' \n",
    "   group by \"Nom Département\", \"Type EPCI\") t2 \n",
    "where t1.\"Type EPCI\" = t2.\"Type EPCI\" order by \"Type EPCI\"; \n"
   ]
  },
  {
   "cell_type": "markdown",
   "id": "lucky-characteristic",
   "metadata": {},
   "source": [
    "### Query 4\n",
    " \n",
    "For measure Sum of \"Conso moyenne (MWh)\" \n",
    "Comparing \"Nom Département\" Finistère vs Ille-et-Vilaine \n",
    "grouped by \"CODE GRAND SECTEUR\" \n",
    "\n",
    "Insight is: Mean Smaller for Finistère \n",
    "\n",
    "\n"
   ]
  },
  {
   "cell_type": "code",
   "execution_count": 27,
   "id": "characteristic-russell",
   "metadata": {},
   "outputs": [
    {
     "name": "stdout",
     "output_type": "stream",
     "text": [
      "6 rows affected.\n"
     ]
    },
    {
     "data": {
      "text/html": [
       "<table>\n",
       "    <tr>\n",
       "        <th>CODE GRAND SECTEUR</th>\n",
       "        <th>Sum(Conso moyenne (MWh)) for Nom Département = Finistère</th>\n",
       "        <th>Sum(Conso moyenne (MWh)) for Nom Département = Ille-et-Vilaine</th>\n",
       "    </tr>\n",
       "    <tr>\n",
       "        <td>AGRICULTURE</td>\n",
       "        <td>537315</td>\n",
       "        <td>302737</td>\n",
       "    </tr>\n",
       "    <tr>\n",
       "        <td>INCONNU</td>\n",
       "        <td>16666</td>\n",
       "        <td>32932</td>\n",
       "    </tr>\n",
       "    <tr>\n",
       "        <td>INDUSTRIE</td>\n",
       "        <td>2159902</td>\n",
       "        <td>3445824</td>\n",
       "    </tr>\n",
       "    <tr>\n",
       "        <td>PETIT_PROFESSIONNEL</td>\n",
       "        <td>34219</td>\n",
       "        <td>44191</td>\n",
       "    </tr>\n",
       "    <tr>\n",
       "        <td>RESIDENTIEL</td>\n",
       "        <td>20208</td>\n",
       "        <td>26231</td>\n",
       "    </tr>\n",
       "    <tr>\n",
       "        <td>TERTIAIRE</td>\n",
       "        <td>1977582</td>\n",
       "        <td>2179697</td>\n",
       "    </tr>\n",
       "</table>"
      ],
      "text/plain": [
       "[('AGRICULTURE', Decimal('537315'), Decimal('302737')),\n",
       " ('INCONNU', Decimal('16666'), Decimal('32932')),\n",
       " ('INDUSTRIE', Decimal('2159902'), Decimal('3445824')),\n",
       " ('PETIT_PROFESSIONNEL', Decimal('34219'), Decimal('44191')),\n",
       " ('RESIDENTIEL', Decimal('20208'), Decimal('26231')),\n",
       " ('TERTIAIRE', Decimal('1977582'), Decimal('2179697'))]"
      ]
     },
     "execution_count": 27,
     "metadata": {},
     "output_type": "execute_result"
    }
   ],
   "source": [
    "%%sql\n",
    "select t1.\"CODE GRAND SECTEUR\", \n",
    "       t1.measure1 as \"Sum(Conso moyenne (MWh)) for Nom Département = Finistère\", t2.measure2 as \"Sum(Conso moyenne (MWh)) for Nom Département = Ille-et-Vilaine\"  \n",
    "from \n",
    "  (select \"Nom Département\", \"CODE GRAND SECTEUR\", sum(\"Conso moyenne (MWh)\") as measure1 \n",
    "   from conso_iris \n",
    "   where  \"Nom Département\" = 'Finistère' \n",
    "   group by \"Nom Département\", \"CODE GRAND SECTEUR\") t1, \n",
    "  (select \"Nom Département\", \"CODE GRAND SECTEUR\",sum(\"Conso moyenne (MWh)\") as measure2 \n",
    "   from conso_iris \n",
    "   where \"Nom Département\" = 'Ille-et-Vilaine' \n",
    "   group by \"Nom Département\", \"CODE GRAND SECTEUR\") t2 \n",
    "where t1.\"CODE GRAND SECTEUR\" = t2.\"CODE GRAND SECTEUR\" order by \"CODE GRAND SECTEUR\"; \n"
   ]
  },
  {
   "cell_type": "markdown",
   "id": "widespread-values",
   "metadata": {},
   "source": [
    "### Query 5\n",
    " \n",
    "For measure Sum of \"Conso moyenne (MWh)\" \n",
    "Comparing \"Nom Département\" Finistère vs Côtes-d'Armor \n",
    "grouped by \"CODE CATEGORIE CONSOMMATION\" \n",
    "\n",
    "Insight is: Mean Greater for Finistère \n",
    "\n",
    "\n"
   ]
  },
  {
   "cell_type": "code",
   "execution_count": 28,
   "id": "native-interstate",
   "metadata": {},
   "outputs": [
    {
     "name": "stdout",
     "output_type": "stream",
     "text": [
      "3 rows affected.\n"
     ]
    },
    {
     "data": {
      "text/html": [
       "<table>\n",
       "    <tr>\n",
       "        <th>CODE CATEGORIE CONSOMMATION</th>\n",
       "        <th>Sum(Conso moyenne (MWh)) for Nom Département = Finistère</th>\n",
       "        <th>Sum(Conso moyenne (MWh)) for Nom Département = Côtes-d&#x27;Armor</th>\n",
       "    </tr>\n",
       "    <tr>\n",
       "        <td>ENT</td>\n",
       "        <td>4659667</td>\n",
       "        <td>3975228</td>\n",
       "    </tr>\n",
       "    <tr>\n",
       "        <td>PRO</td>\n",
       "        <td>66017</td>\n",
       "        <td>71410</td>\n",
       "    </tr>\n",
       "    <tr>\n",
       "        <td>RES</td>\n",
       "        <td>20208</td>\n",
       "        <td>20763</td>\n",
       "    </tr>\n",
       "</table>"
      ],
      "text/plain": [
       "[('ENT', Decimal('4659667'), Decimal('3975228')),\n",
       " ('PRO', Decimal('66017'), Decimal('71410')),\n",
       " ('RES', Decimal('20208'), Decimal('20763'))]"
      ]
     },
     "execution_count": 28,
     "metadata": {},
     "output_type": "execute_result"
    }
   ],
   "source": [
    "%%sql\n",
    "select t1.\"CODE CATEGORIE CONSOMMATION\", \n",
    "       t1.measure1 as \"Sum(Conso moyenne (MWh)) for Nom Département = Finistère\", t2.measure2 as \"Sum(Conso moyenne (MWh)) for Nom Département = Côtes-d'Armor\"  \n",
    "from \n",
    "  (select \"Nom Département\", \"CODE CATEGORIE CONSOMMATION\", sum(\"Conso moyenne (MWh)\") as measure1 \n",
    "   from conso_iris \n",
    "   where  \"Nom Département\" = 'Finistère' \n",
    "   group by \"Nom Département\", \"CODE CATEGORIE CONSOMMATION\") t1, \n",
    "  (select \"Nom Département\", \"CODE CATEGORIE CONSOMMATION\",sum(\"Conso moyenne (MWh)\") as measure2 \n",
    "   from conso_iris \n",
    "   where \"Nom Département\" = 'Côtes-d''Armor' \n",
    "   group by \"Nom Département\", \"CODE CATEGORIE CONSOMMATION\") t2 \n",
    "where t1.\"CODE CATEGORIE CONSOMMATION\" = t2.\"CODE CATEGORIE CONSOMMATION\" order by \"CODE CATEGORIE CONSOMMATION\"; \n"
   ]
  },
  {
   "cell_type": "markdown",
   "id": "burning-morris",
   "metadata": {},
   "source": [
    "### Query 6\n",
    " \n",
    "For measure Sum of \"Conso moyenne (MWh)\" \n",
    "Comparing \"CODE CATEGORIE CONSOMMATION\" RES vs PRO \n",
    "grouped by \"Type IRIS\" \n",
    "\n",
    "Insight is: Variance Smaller for RES, Insight is: Mean Smaller for RES \n",
    "\n",
    "\n"
   ]
  },
  {
   "cell_type": "code",
   "execution_count": 29,
   "id": "vocational-match",
   "metadata": {},
   "outputs": [
    {
     "name": "stdout",
     "output_type": "stream",
     "text": [
      "6 rows affected.\n"
     ]
    },
    {
     "data": {
      "text/html": [
       "<table>\n",
       "    <tr>\n",
       "        <th>Type IRIS</th>\n",
       "        <th>Sum(Conso moyenne (MWh)) for CODE CATEGORIE CONSOMMATION = RES</th>\n",
       "        <th>Sum(Conso moyenne (MWh)) for CODE CATEGORIE CONSOMMATION = PRO</th>\n",
       "    </tr>\n",
       "    <tr>\n",
       "        <td>A</td>\n",
       "        <td>1408</td>\n",
       "        <td>5971</td>\n",
       "    </tr>\n",
       "    <tr>\n",
       "        <td>D</td>\n",
       "        <td>1470</td>\n",
       "        <td>4455</td>\n",
       "    </tr>\n",
       "    <tr>\n",
       "        <td>F</td>\n",
       "        <td>76</td>\n",
       "        <td>475</td>\n",
       "    </tr>\n",
       "    <tr>\n",
       "        <td>H</td>\n",
       "        <td>19853</td>\n",
       "        <td>68167</td>\n",
       "    </tr>\n",
       "    <tr>\n",
       "        <td>Z</td>\n",
       "        <td>60213</td>\n",
       "        <td>195231</td>\n",
       "    </tr>\n",
       "    <tr>\n",
       "        <td>_</td>\n",
       "        <td>1199</td>\n",
       "        <td>1974</td>\n",
       "    </tr>\n",
       "</table>"
      ],
      "text/plain": [
       "[('A', Decimal('1408'), Decimal('5971')),\n",
       " ('D', Decimal('1470'), Decimal('4455')),\n",
       " ('F', Decimal('76'), Decimal('475')),\n",
       " ('H', Decimal('19853'), Decimal('68167')),\n",
       " ('Z', Decimal('60213'), Decimal('195231')),\n",
       " ('_', Decimal('1199'), Decimal('1974'))]"
      ]
     },
     "execution_count": 29,
     "metadata": {},
     "output_type": "execute_result"
    }
   ],
   "source": [
    "%%sql\n",
    "select t1.\"Type IRIS\", \n",
    "       t1.measure1 as \"Sum(Conso moyenne (MWh)) for CODE CATEGORIE CONSOMMATION = RES\", t2.measure2 as \"Sum(Conso moyenne (MWh)) for CODE CATEGORIE CONSOMMATION = PRO\"  \n",
    "from \n",
    "  (select \"CODE CATEGORIE CONSOMMATION\", \"Type IRIS\", sum(\"Conso moyenne (MWh)\") as measure1 \n",
    "   from conso_iris \n",
    "   where  \"CODE CATEGORIE CONSOMMATION\" = 'RES' \n",
    "   group by \"CODE CATEGORIE CONSOMMATION\", \"Type IRIS\") t1, \n",
    "  (select \"CODE CATEGORIE CONSOMMATION\", \"Type IRIS\",sum(\"Conso moyenne (MWh)\") as measure2 \n",
    "   from conso_iris \n",
    "   where \"CODE CATEGORIE CONSOMMATION\" = 'PRO' \n",
    "   group by \"CODE CATEGORIE CONSOMMATION\", \"Type IRIS\") t2 \n",
    "where t1.\"Type IRIS\" = t2.\"Type IRIS\" order by \"Type IRIS\"; \n"
   ]
  },
  {
   "cell_type": "markdown",
   "id": "communist-tension",
   "metadata": {},
   "source": [
    "### Query 7\n",
    " \n",
    "For measure Sum of \"Conso totale (MWh)\" \n",
    "Comparing \"CODE CATEGORIE CONSOMMATION\" RES vs PRO \n",
    "grouped by \"Type IRIS\" \n",
    "\n",
    "Insight is: Mean Greater for RES \n",
    "\n",
    "\n"
   ]
  },
  {
   "cell_type": "code",
   "execution_count": 30,
   "id": "patient-relative",
   "metadata": {},
   "outputs": [
    {
     "name": "stdout",
     "output_type": "stream",
     "text": [
      "6 rows affected.\n"
     ]
    },
    {
     "data": {
      "text/html": [
       "<table>\n",
       "    <tr>\n",
       "        <th>Type IRIS</th>\n",
       "        <th>Sum(Conso totale (MWh)) for CODE CATEGORIE CONSOMMATION = RES</th>\n",
       "        <th>Sum(Conso totale (MWh)) for CODE CATEGORIE CONSOMMATION = PRO</th>\n",
       "    </tr>\n",
       "    <tr>\n",
       "        <td>A</td>\n",
       "        <td>234772</td>\n",
       "        <td>651146</td>\n",
       "    </tr>\n",
       "    <tr>\n",
       "        <td>D</td>\n",
       "        <td>560893</td>\n",
       "        <td>243015</td>\n",
       "    </tr>\n",
       "    <tr>\n",
       "        <td>F</td>\n",
       "        <td>12857</td>\n",
       "        <td>3974</td>\n",
       "    </tr>\n",
       "    <tr>\n",
       "        <td>H</td>\n",
       "        <td>28480904</td>\n",
       "        <td>9121905</td>\n",
       "    </tr>\n",
       "    <tr>\n",
       "        <td>Z</td>\n",
       "        <td>47920106</td>\n",
       "        <td>12470034</td>\n",
       "    </tr>\n",
       "    <tr>\n",
       "        <td>_</td>\n",
       "        <td>47338</td>\n",
       "        <td>82903</td>\n",
       "    </tr>\n",
       "</table>"
      ],
      "text/plain": [
       "[('A', Decimal('234772'), Decimal('651146')),\n",
       " ('D', Decimal('560893'), Decimal('243015')),\n",
       " ('F', Decimal('12857'), Decimal('3974')),\n",
       " ('H', Decimal('28480904'), Decimal('9121905')),\n",
       " ('Z', Decimal('47920106'), Decimal('12470034')),\n",
       " ('_', Decimal('47338'), Decimal('82903'))]"
      ]
     },
     "execution_count": 30,
     "metadata": {},
     "output_type": "execute_result"
    }
   ],
   "source": [
    "%%sql\n",
    "select t1.\"Type IRIS\", \n",
    "       t1.measure1 as \"Sum(Conso totale (MWh)) for CODE CATEGORIE CONSOMMATION = RES\", t2.measure2 as \"Sum(Conso totale (MWh)) for CODE CATEGORIE CONSOMMATION = PRO\"  \n",
    "from \n",
    "  (select \"CODE CATEGORIE CONSOMMATION\", \"Type IRIS\", sum(\"Conso totale (MWh)\") as measure1 \n",
    "   from conso_iris \n",
    "   where  \"CODE CATEGORIE CONSOMMATION\" = 'RES' \n",
    "   group by \"CODE CATEGORIE CONSOMMATION\", \"Type IRIS\") t1, \n",
    "  (select \"CODE CATEGORIE CONSOMMATION\", \"Type IRIS\",sum(\"Conso totale (MWh)\") as measure2 \n",
    "   from conso_iris \n",
    "   where \"CODE CATEGORIE CONSOMMATION\" = 'PRO' \n",
    "   group by \"CODE CATEGORIE CONSOMMATION\", \"Type IRIS\") t2 \n",
    "where t1.\"Type IRIS\" = t2.\"Type IRIS\" order by \"Type IRIS\"; \n"
   ]
  },
  {
   "cell_type": "markdown",
   "id": "therapeutic-queen",
   "metadata": {},
   "source": [
    "### Query 8\n",
    " \n",
    "For measure Sum of \"Conso totale (MWh)\" \n",
    "Comparing \"CODE GRAND SECTEUR\" AGRICULTURE vs TERTIAIRE \n",
    "grouped by \"Type IRIS\" \n",
    "\n",
    "Insight is: Mean Smaller for AGRICULTURE \n",
    "\n",
    "\n"
   ]
  },
  {
   "cell_type": "code",
   "execution_count": 31,
   "id": "apart-publication",
   "metadata": {},
   "outputs": [
    {
     "name": "stdout",
     "output_type": "stream",
     "text": [
      "6 rows affected.\n"
     ]
    },
    {
     "data": {
      "text/html": [
       "<table>\n",
       "    <tr>\n",
       "        <th>Type IRIS</th>\n",
       "        <th>Sum(Conso totale (MWh)) for CODE GRAND SECTEUR = AGRICULTURE</th>\n",
       "        <th>Sum(Conso totale (MWh)) for CODE GRAND SECTEUR = TERTIAIRE</th>\n",
       "    </tr>\n",
       "    <tr>\n",
       "        <td>A</td>\n",
       "        <td>16104</td>\n",
       "        <td>3410347</td>\n",
       "    </tr>\n",
       "    <tr>\n",
       "        <td>D</td>\n",
       "        <td>60572</td>\n",
       "        <td>1598270</td>\n",
       "    </tr>\n",
       "    <tr>\n",
       "        <td>F</td>\n",
       "        <td>2928</td>\n",
       "        <td>52799</td>\n",
       "    </tr>\n",
       "    <tr>\n",
       "        <td>H</td>\n",
       "        <td>686361</td>\n",
       "        <td>20389465</td>\n",
       "    </tr>\n",
       "    <tr>\n",
       "        <td>Z</td>\n",
       "        <td>6426186</td>\n",
       "        <td>15053297</td>\n",
       "    </tr>\n",
       "    <tr>\n",
       "        <td>_</td>\n",
       "        <td>12991</td>\n",
       "        <td>624522</td>\n",
       "    </tr>\n",
       "</table>"
      ],
      "text/plain": [
       "[('A', Decimal('16104'), Decimal('3410347')),\n",
       " ('D', Decimal('60572'), Decimal('1598270')),\n",
       " ('F', Decimal('2928'), Decimal('52799')),\n",
       " ('H', Decimal('686361'), Decimal('20389465')),\n",
       " ('Z', Decimal('6426186'), Decimal('15053297')),\n",
       " ('_', Decimal('12991'), Decimal('624522'))]"
      ]
     },
     "execution_count": 31,
     "metadata": {},
     "output_type": "execute_result"
    }
   ],
   "source": [
    "%%sql\n",
    "select t1.\"Type IRIS\", \n",
    "       t1.measure1 as \"Sum(Conso totale (MWh)) for CODE GRAND SECTEUR = AGRICULTURE\", t2.measure2 as \"Sum(Conso totale (MWh)) for CODE GRAND SECTEUR = TERTIAIRE\"  \n",
    "from \n",
    "  (select \"CODE GRAND SECTEUR\", \"Type IRIS\", sum(\"Conso totale (MWh)\") as measure1 \n",
    "   from conso_iris \n",
    "   where  \"CODE GRAND SECTEUR\" = 'AGRICULTURE' \n",
    "   group by \"CODE GRAND SECTEUR\", \"Type IRIS\") t1, \n",
    "  (select \"CODE GRAND SECTEUR\", \"Type IRIS\",sum(\"Conso totale (MWh)\") as measure2 \n",
    "   from conso_iris \n",
    "   where \"CODE GRAND SECTEUR\" = 'TERTIAIRE' \n",
    "   group by \"CODE GRAND SECTEUR\", \"Type IRIS\") t2 \n",
    "where t1.\"Type IRIS\" = t2.\"Type IRIS\" order by \"Type IRIS\"; \n"
   ]
  },
  {
   "cell_type": "markdown",
   "id": "strategic-retro",
   "metadata": {},
   "source": [
    "### Query 9\n",
    " \n",
    "For measure Sum of \"Conso totale (MWh)\" \n",
    "Comparing \"CODE GRAND SECTEUR\" RESIDENTIEL vs TERTIAIRE \n",
    "grouped by \"Type IRIS\" \n",
    "\n",
    "Insight is: Mean Greater for RESIDENTIEL \n",
    "\n",
    "\n"
   ]
  },
  {
   "cell_type": "code",
   "execution_count": 32,
   "id": "accessory-dominant",
   "metadata": {},
   "outputs": [
    {
     "name": "stdout",
     "output_type": "stream",
     "text": [
      "6 rows affected.\n"
     ]
    },
    {
     "data": {
      "text/html": [
       "<table>\n",
       "    <tr>\n",
       "        <th>Type IRIS</th>\n",
       "        <th>Sum(Conso totale (MWh)) for CODE GRAND SECTEUR = RESIDENTIEL</th>\n",
       "        <th>Sum(Conso totale (MWh)) for CODE GRAND SECTEUR = TERTIAIRE</th>\n",
       "    </tr>\n",
       "    <tr>\n",
       "        <td>A</td>\n",
       "        <td>234772</td>\n",
       "        <td>3410347</td>\n",
       "    </tr>\n",
       "    <tr>\n",
       "        <td>D</td>\n",
       "        <td>560893</td>\n",
       "        <td>1598270</td>\n",
       "    </tr>\n",
       "    <tr>\n",
       "        <td>F</td>\n",
       "        <td>12857</td>\n",
       "        <td>52799</td>\n",
       "    </tr>\n",
       "    <tr>\n",
       "        <td>H</td>\n",
       "        <td>28480904</td>\n",
       "        <td>20389465</td>\n",
       "    </tr>\n",
       "    <tr>\n",
       "        <td>Z</td>\n",
       "        <td>47920106</td>\n",
       "        <td>15053297</td>\n",
       "    </tr>\n",
       "    <tr>\n",
       "        <td>_</td>\n",
       "        <td>47338</td>\n",
       "        <td>624522</td>\n",
       "    </tr>\n",
       "</table>"
      ],
      "text/plain": [
       "[('A', Decimal('234772'), Decimal('3410347')),\n",
       " ('D', Decimal('560893'), Decimal('1598270')),\n",
       " ('F', Decimal('12857'), Decimal('52799')),\n",
       " ('H', Decimal('28480904'), Decimal('20389465')),\n",
       " ('Z', Decimal('47920106'), Decimal('15053297')),\n",
       " ('_', Decimal('47338'), Decimal('624522'))]"
      ]
     },
     "execution_count": 32,
     "metadata": {},
     "output_type": "execute_result"
    }
   ],
   "source": [
    "%%sql\n",
    "select t1.\"Type IRIS\", \n",
    "       t1.measure1 as \"Sum(Conso totale (MWh)) for CODE GRAND SECTEUR = RESIDENTIEL\", t2.measure2 as \"Sum(Conso totale (MWh)) for CODE GRAND SECTEUR = TERTIAIRE\"  \n",
    "from \n",
    "  (select \"CODE GRAND SECTEUR\", \"Type IRIS\", sum(\"Conso totale (MWh)\") as measure1 \n",
    "   from conso_iris \n",
    "   where  \"CODE GRAND SECTEUR\" = 'RESIDENTIEL' \n",
    "   group by \"CODE GRAND SECTEUR\", \"Type IRIS\") t1, \n",
    "  (select \"CODE GRAND SECTEUR\", \"Type IRIS\",sum(\"Conso totale (MWh)\") as measure2 \n",
    "   from conso_iris \n",
    "   where \"CODE GRAND SECTEUR\" = 'TERTIAIRE' \n",
    "   group by \"CODE GRAND SECTEUR\", \"Type IRIS\") t2 \n",
    "where t1.\"Type IRIS\" = t2.\"Type IRIS\" order by \"Type IRIS\"; \n"
   ]
  },
  {
   "cell_type": "markdown",
   "id": "cosmetic-simpson",
   "metadata": {},
   "source": [
    "### Query 10\n",
    " \n",
    "For measure Sum of \"Conso moyenne (MWh)\" \n",
    "Comparing \"CODE GRAND SECTEUR\" RESIDENTIEL vs PETIT_PROFESSIONNEL \n",
    "grouped by \"Année\" \n",
    "\n",
    "Insight is: Mean Smaller for RESIDENTIEL, Insight is: Variance Smaller for RESIDENTIEL \n",
    "\n",
    "\n"
   ]
  },
  {
   "cell_type": "code",
   "execution_count": 33,
   "id": "rocky-stamp",
   "metadata": {},
   "outputs": [
    {
     "name": "stdout",
     "output_type": "stream",
     "text": [
      "7 rows affected.\n"
     ]
    },
    {
     "data": {
      "text/html": [
       "<table>\n",
       "    <tr>\n",
       "        <th>Année</th>\n",
       "        <th>Sum(Conso moyenne (MWh)) for CODE GRAND SECTEUR = RESIDENTIEL</th>\n",
       "        <th>Sum(Conso moyenne (MWh)) for CODE GRAND SECTEUR = PETIT_PROFESS</th>\n",
       "    </tr>\n",
       "    <tr>\n",
       "        <td>2011</td>\n",
       "        <td>9267</td>\n",
       "        <td>20881</td>\n",
       "    </tr>\n",
       "    <tr>\n",
       "        <td>2012</td>\n",
       "        <td>9944</td>\n",
       "        <td>21383</td>\n",
       "    </tr>\n",
       "    <tr>\n",
       "        <td>2013</td>\n",
       "        <td>10232</td>\n",
       "        <td>21578</td>\n",
       "    </tr>\n",
       "    <tr>\n",
       "        <td>2014</td>\n",
       "        <td>9123</td>\n",
       "        <td>20312</td>\n",
       "    </tr>\n",
       "    <tr>\n",
       "        <td>2015</td>\n",
       "        <td>9289</td>\n",
       "        <td>20565</td>\n",
       "    </tr>\n",
       "    <tr>\n",
       "        <td>2016</td>\n",
       "        <td>9440</td>\n",
       "        <td>20587</td>\n",
       "    </tr>\n",
       "    <tr>\n",
       "        <td>2017</td>\n",
       "        <td>9045</td>\n",
       "        <td>19895</td>\n",
       "    </tr>\n",
       "</table>"
      ],
      "text/plain": [
       "[(2011, Decimal('9267'), Decimal('20881')),\n",
       " (2012, Decimal('9944'), Decimal('21383')),\n",
       " (2013, Decimal('10232'), Decimal('21578')),\n",
       " (2014, Decimal('9123'), Decimal('20312')),\n",
       " (2015, Decimal('9289'), Decimal('20565')),\n",
       " (2016, Decimal('9440'), Decimal('20587')),\n",
       " (2017, Decimal('9045'), Decimal('19895'))]"
      ]
     },
     "execution_count": 33,
     "metadata": {},
     "output_type": "execute_result"
    }
   ],
   "source": [
    "%%sql\n",
    "select t1.\"Année\", \n",
    "       t1.measure1 as \"Sum(Conso moyenne (MWh)) for CODE GRAND SECTEUR = RESIDENTIEL\", t2.measure2 as \"Sum(Conso moyenne (MWh)) for CODE GRAND SECTEUR = PETIT_PROFESSIONNEL\"  \n",
    "from \n",
    "  (select \"CODE GRAND SECTEUR\", \"Année\", sum(\"Conso moyenne (MWh)\") as measure1 \n",
    "   from conso_iris \n",
    "   where  \"CODE GRAND SECTEUR\" = 'RESIDENTIEL' \n",
    "   group by \"CODE GRAND SECTEUR\", \"Année\") t1, \n",
    "  (select \"CODE GRAND SECTEUR\", \"Année\",sum(\"Conso moyenne (MWh)\") as measure2 \n",
    "   from conso_iris \n",
    "   where \"CODE GRAND SECTEUR\" = 'PETIT_PROFESSIONNEL' \n",
    "   group by \"CODE GRAND SECTEUR\", \"Année\") t2 \n",
    "where t1.\"Année\" = t2.\"Année\" order by \"Année\"; \n"
   ]
  },
  {
   "cell_type": "code",
   "execution_count": null,
   "id": "complimentary-surname",
   "metadata": {},
   "outputs": [],
   "source": []
  },
  {
   "cell_type": "code",
   "execution_count": null,
   "id": "stopped-lighter",
   "metadata": {},
   "outputs": [],
   "source": []
  },
  {
   "cell_type": "code",
   "execution_count": null,
   "id": "julian-feeding",
   "metadata": {},
   "outputs": [],
   "source": []
  }
 ],
 "metadata": {
  "kernelspec": {
   "display_name": "Python 3",
   "language": "python",
   "name": "python3"
  },
  "language_info": {
   "codemirror_mode": {
    "name": "ipython",
    "version": 3
   },
   "file_extension": ".py",
   "mimetype": "text/x-python",
   "name": "python",
   "nbconvert_exporter": "python",
   "pygments_lexer": "ipython3",
   "version": "3.8.10"
  }
 },
 "nbformat": 4,
 "nbformat_minor": 5
}
