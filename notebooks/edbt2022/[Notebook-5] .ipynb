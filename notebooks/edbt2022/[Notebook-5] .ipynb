{
 "cells": [
  {
   "cell_type": "markdown",
   "id": "frequent-consultancy",
   "metadata": {},
   "source": [
    "# SQL comparison notebooks <dataset_name>\n",
    "This data analysis was automatically generated using the TAP algorithm."
   ]
  },
  {
   "cell_type": "code",
   "execution_count": 23,
   "id": "applied-backup",
   "metadata": {},
   "outputs": [
    {
     "name": "stdout",
     "output_type": "stream",
     "text": [
      "The sql extension is already loaded. To reload it, use:\n",
      "  %reload_ext sql\n"
     ]
    }
   ],
   "source": [
    "import sqlalchemy\n",
    "sqlalchemy.create_engine(\"postgresql://localhost:5432/covid?user=marcel&password=1598marcel\")\n",
    "%load_ext sql\n",
    "%sql postgresql://localhost:5432/covid?user=marcel&password=1598marcel\n",
    "%config SqlMagic.displaycon=False"
   ]
  },
  {
   "cell_type": "markdown",
   "id": "compressed-trauma",
   "metadata": {},
   "source": [
    "### Query 1\n",
    " \n",
    "For measure Sum of \"Conso moyenne (MWh)\" \n",
    "Comparing \"Type IRIS\" D vs _ \n",
    "grouped by \"CODE GRAND SECTEUR\" \n",
    "\n",
    "Insight is: Variance Equals for D \n",
    "\n",
    "\n"
   ]
  },
  {
   "cell_type": "code",
   "execution_count": 24,
   "id": "suburban-filename",
   "metadata": {},
   "outputs": [
    {
     "name": "stdout",
     "output_type": "stream",
     "text": [
      "6 rows affected.\n"
     ]
    },
    {
     "data": {
      "text/html": [
       "<table>\n",
       "    <tr>\n",
       "        <th>CODE GRAND SECTEUR</th>\n",
       "        <th>Sum(Conso moyenne (MWh)) for Type IRIS = D</th>\n",
       "        <th>Sum(Conso moyenne (MWh)) for Type IRIS = _</th>\n",
       "    </tr>\n",
       "    <tr>\n",
       "        <td>AGRICULTURE</td>\n",
       "        <td>25361</td>\n",
       "        <td>10163</td>\n",
       "    </tr>\n",
       "    <tr>\n",
       "        <td>INCONNU</td>\n",
       "        <td>2395</td>\n",
       "        <td>23149</td>\n",
       "    </tr>\n",
       "    <tr>\n",
       "        <td>INDUSTRIE</td>\n",
       "        <td>242367</td>\n",
       "        <td>288813</td>\n",
       "    </tr>\n",
       "    <tr>\n",
       "        <td>PETIT_PROFESSIONNEL</td>\n",
       "        <td>2314</td>\n",
       "        <td>1557</td>\n",
       "    </tr>\n",
       "    <tr>\n",
       "        <td>RESIDENTIEL</td>\n",
       "        <td>1470</td>\n",
       "        <td>1199</td>\n",
       "    </tr>\n",
       "    <tr>\n",
       "        <td>TERTIAIRE</td>\n",
       "        <td>234812</td>\n",
       "        <td>185620</td>\n",
       "    </tr>\n",
       "</table>"
      ],
      "text/plain": [
       "[('AGRICULTURE', Decimal('25361'), Decimal('10163')),\n",
       " ('INCONNU', Decimal('2395'), Decimal('23149')),\n",
       " ('INDUSTRIE', Decimal('242367'), Decimal('288813')),\n",
       " ('PETIT_PROFESSIONNEL', Decimal('2314'), Decimal('1557')),\n",
       " ('RESIDENTIEL', Decimal('1470'), Decimal('1199')),\n",
       " ('TERTIAIRE', Decimal('234812'), Decimal('185620'))]"
      ]
     },
     "execution_count": 24,
     "metadata": {},
     "output_type": "execute_result"
    }
   ],
   "source": [
    "%%sql\n",
    "select t1.\"CODE GRAND SECTEUR\", \n",
    "       t1.measure1 as \"Sum(Conso moyenne (MWh)) for Type IRIS = D\", t2.measure2 as \"Sum(Conso moyenne (MWh)) for Type IRIS = _\"  \n",
    "from \n",
    "  (select \"Type IRIS\", \"CODE GRAND SECTEUR\", sum(\"Conso moyenne (MWh)\") as measure1 \n",
    "   from conso_iris \n",
    "   where  \"Type IRIS\" = 'D' \n",
    "   group by \"Type IRIS\", \"CODE GRAND SECTEUR\") t1, \n",
    "  (select \"Type IRIS\", \"CODE GRAND SECTEUR\",sum(\"Conso moyenne (MWh)\") as measure2 \n",
    "   from conso_iris \n",
    "   where \"Type IRIS\" = '_' \n",
    "   group by \"Type IRIS\", \"CODE GRAND SECTEUR\") t2 \n",
    "where t1.\"CODE GRAND SECTEUR\" = t2.\"CODE GRAND SECTEUR\" order by \"CODE GRAND SECTEUR\"; \n"
   ]
  },
  {
   "cell_type": "markdown",
   "id": "temporal-reasoning",
   "metadata": {},
   "source": [
    "### Query 2\n",
    " \n",
    "For measure Sum of \"Conso moyenne (MWh)\" \n",
    "Comparing \"Type EPCI\" 0 vs nd \n",
    "grouped by \"CODE CATEGORIE CONSOMMATION\" \n",
    "\n",
    "Insight is: Mean Smaller for 0 \n",
    "\n",
    "\n"
   ]
  },
  {
   "cell_type": "code",
   "execution_count": 25,
   "id": "banned-pharmaceutical",
   "metadata": {},
   "outputs": [
    {
     "name": "stdout",
     "output_type": "stream",
     "text": [
      "3 rows affected.\n"
     ]
    },
    {
     "data": {
      "text/html": [
       "<table>\n",
       "    <tr>\n",
       "        <th>CODE CATEGORIE CONSOMMATION</th>\n",
       "        <th>Sum(Conso moyenne (MWh)) for Type EPCI = 0</th>\n",
       "        <th>Sum(Conso moyenne (MWh)) for Type EPCI = nd</th>\n",
       "    </tr>\n",
       "    <tr>\n",
       "        <td>ENT</td>\n",
       "        <td>10741</td>\n",
       "        <td>43641</td>\n",
       "    </tr>\n",
       "    <tr>\n",
       "        <td>PRO</td>\n",
       "        <td>300</td>\n",
       "        <td>548</td>\n",
       "    </tr>\n",
       "    <tr>\n",
       "        <td>RES</td>\n",
       "        <td>121</td>\n",
       "        <td>261</td>\n",
       "    </tr>\n",
       "</table>"
      ],
      "text/plain": [
       "[('ENT', Decimal('10741'), Decimal('43641')),\n",
       " ('PRO', Decimal('300'), Decimal('548')),\n",
       " ('RES', Decimal('121'), Decimal('261'))]"
      ]
     },
     "execution_count": 25,
     "metadata": {},
     "output_type": "execute_result"
    }
   ],
   "source": [
    "%%sql\n",
    "select t1.\"CODE CATEGORIE CONSOMMATION\", \n",
    "       t1.measure1 as \"Sum(Conso moyenne (MWh)) for Type EPCI = 0\", t2.measure2 as \"Sum(Conso moyenne (MWh)) for Type EPCI = nd\"  \n",
    "from \n",
    "  (select \"Type EPCI\", \"CODE CATEGORIE CONSOMMATION\", sum(\"Conso moyenne (MWh)\") as measure1 \n",
    "   from conso_iris \n",
    "   where  \"Type EPCI\" = '0' \n",
    "   group by \"Type EPCI\", \"CODE CATEGORIE CONSOMMATION\") t1, \n",
    "  (select \"Type EPCI\", \"CODE CATEGORIE CONSOMMATION\",sum(\"Conso moyenne (MWh)\") as measure2 \n",
    "   from conso_iris \n",
    "   where \"Type EPCI\" = 'nd' \n",
    "   group by \"Type EPCI\", \"CODE CATEGORIE CONSOMMATION\") t2 \n",
    "where t1.\"CODE CATEGORIE CONSOMMATION\" = t2.\"CODE CATEGORIE CONSOMMATION\" order by \"CODE CATEGORIE CONSOMMATION\"; \n"
   ]
  },
  {
   "cell_type": "markdown",
   "id": "broad-ghost",
   "metadata": {},
   "source": [
    "### Query 3\n",
    " \n",
    "For measure Sum of \"Conso totale (MWh)\" \n",
    "Comparing \"Type EPCI\" 0 vs nd \n",
    "grouped by \"Type IRIS\" \n",
    "\n",
    "Insight is: Mean Smaller for 0 \n",
    "\n",
    "\n"
   ]
  },
  {
   "cell_type": "code",
   "execution_count": 26,
   "id": "continuous-imagination",
   "metadata": {},
   "outputs": [
    {
     "name": "stdout",
     "output_type": "stream",
     "text": [
      "1 rows affected.\n"
     ]
    },
    {
     "data": {
      "text/html": [
       "<table>\n",
       "    <tr>\n",
       "        <th>Type IRIS</th>\n",
       "        <th>Sum(Conso totale (MWh)) for Type EPCI = 0</th>\n",
       "        <th>Sum(Conso totale (MWh)) for Type EPCI = nd</th>\n",
       "    </tr>\n",
       "    <tr>\n",
       "        <td>Z</td>\n",
       "        <td>118792</td>\n",
       "        <td>421387</td>\n",
       "    </tr>\n",
       "</table>"
      ],
      "text/plain": [
       "[('Z', Decimal('118792'), Decimal('421387'))]"
      ]
     },
     "execution_count": 26,
     "metadata": {},
     "output_type": "execute_result"
    }
   ],
   "source": [
    "%%sql\n",
    "select t1.\"Type IRIS\", \n",
    "       t1.measure1 as \"Sum(Conso totale (MWh)) for Type EPCI = 0\", t2.measure2 as \"Sum(Conso totale (MWh)) for Type EPCI = nd\"  \n",
    "from \n",
    "  (select \"Type EPCI\", \"Type IRIS\", sum(\"Conso totale (MWh)\") as measure1 \n",
    "   from conso_iris \n",
    "   where  \"Type EPCI\" = '0' \n",
    "   group by \"Type EPCI\", \"Type IRIS\") t1, \n",
    "  (select \"Type EPCI\", \"Type IRIS\",sum(\"Conso totale (MWh)\") as measure2 \n",
    "   from conso_iris \n",
    "   where \"Type EPCI\" = 'nd' \n",
    "   group by \"Type EPCI\", \"Type IRIS\") t2 \n",
    "where t1.\"Type IRIS\" = t2.\"Type IRIS\" order by \"Type IRIS\"; \n"
   ]
  },
  {
   "cell_type": "markdown",
   "id": "tamil-glance",
   "metadata": {},
   "source": [
    "### Query 4\n",
    " \n",
    "For measure Sum of \"Conso moyenne (MWh)\" \n",
    "Comparing \"Type EPCI\" 0 vs CU \n",
    "grouped by \"Type IRIS\" \n",
    "\n",
    "Insight is: Mean Greater for 0 \n",
    "\n",
    "\n"
   ]
  },
  {
   "cell_type": "code",
   "execution_count": 27,
   "id": "soviet-casting",
   "metadata": {},
   "outputs": [
    {
     "name": "stdout",
     "output_type": "stream",
     "text": [
      "1 rows affected.\n"
     ]
    },
    {
     "data": {
      "text/html": [
       "<table>\n",
       "    <tr>\n",
       "        <th>Type IRIS</th>\n",
       "        <th>Sum(Conso moyenne (MWh)) for Type EPCI = 0</th>\n",
       "        <th>Sum(Conso moyenne (MWh)) for Type EPCI = CU</th>\n",
       "    </tr>\n",
       "    <tr>\n",
       "        <td>Z</td>\n",
       "        <td>11162</td>\n",
       "        <td>3268</td>\n",
       "    </tr>\n",
       "</table>"
      ],
      "text/plain": [
       "[('Z', Decimal('11162'), Decimal('3268'))]"
      ]
     },
     "execution_count": 27,
     "metadata": {},
     "output_type": "execute_result"
    }
   ],
   "source": [
    "%%sql\n",
    "select t1.\"Type IRIS\", \n",
    "       t1.measure1 as \"Sum(Conso moyenne (MWh)) for Type EPCI = 0\", t2.measure2 as \"Sum(Conso moyenne (MWh)) for Type EPCI = CU\"  \n",
    "from \n",
    "  (select \"Type EPCI\", \"Type IRIS\", sum(\"Conso moyenne (MWh)\") as measure1 \n",
    "   from conso_iris \n",
    "   where  \"Type EPCI\" = '0' \n",
    "   group by \"Type EPCI\", \"Type IRIS\") t1, \n",
    "  (select \"Type EPCI\", \"Type IRIS\",sum(\"Conso moyenne (MWh)\") as measure2 \n",
    "   from conso_iris \n",
    "   where \"Type EPCI\" = 'CU' \n",
    "   group by \"Type EPCI\", \"Type IRIS\") t2 \n",
    "where t1.\"Type IRIS\" = t2.\"Type IRIS\" order by \"Type IRIS\"; \n"
   ]
  },
  {
   "cell_type": "markdown",
   "id": "afraid-veteran",
   "metadata": {},
   "source": [
    "### Query 5\n",
    " \n",
    "For measure Sum of \"Conso moyenne (MWh)\" \n",
    "Comparing \"Type EPCI\" ZZ vs CU \n",
    "grouped by \"Type IRIS\" \n",
    "\n",
    "Insight is: Mean Greater for ZZ \n",
    "\n",
    "\n"
   ]
  },
  {
   "cell_type": "code",
   "execution_count": 28,
   "id": "radio-atlantic",
   "metadata": {},
   "outputs": [
    {
     "name": "stdout",
     "output_type": "stream",
     "text": [
      "1 rows affected.\n"
     ]
    },
    {
     "data": {
      "text/html": [
       "<table>\n",
       "    <tr>\n",
       "        <th>Type IRIS</th>\n",
       "        <th>Sum(Conso moyenne (MWh)) for Type EPCI = ZZ</th>\n",
       "        <th>Sum(Conso moyenne (MWh)) for Type EPCI = CU</th>\n",
       "    </tr>\n",
       "    <tr>\n",
       "        <td>Z</td>\n",
       "        <td>26695</td>\n",
       "        <td>3268</td>\n",
       "    </tr>\n",
       "</table>"
      ],
      "text/plain": [
       "[('Z', Decimal('26695'), Decimal('3268'))]"
      ]
     },
     "execution_count": 28,
     "metadata": {},
     "output_type": "execute_result"
    }
   ],
   "source": [
    "%%sql\n",
    "select t1.\"Type IRIS\", \n",
    "       t1.measure1 as \"Sum(Conso moyenne (MWh)) for Type EPCI = ZZ\", t2.measure2 as \"Sum(Conso moyenne (MWh)) for Type EPCI = CU\"  \n",
    "from \n",
    "  (select \"Type EPCI\", \"Type IRIS\", sum(\"Conso moyenne (MWh)\") as measure1 \n",
    "   from conso_iris \n",
    "   where  \"Type EPCI\" = 'ZZ' \n",
    "   group by \"Type EPCI\", \"Type IRIS\") t1, \n",
    "  (select \"Type EPCI\", \"Type IRIS\",sum(\"Conso moyenne (MWh)\") as measure2 \n",
    "   from conso_iris \n",
    "   where \"Type EPCI\" = 'CU' \n",
    "   group by \"Type EPCI\", \"Type IRIS\") t2 \n",
    "where t1.\"Type IRIS\" = t2.\"Type IRIS\" order by \"Type IRIS\"; \n"
   ]
  },
  {
   "cell_type": "markdown",
   "id": "tribal-short",
   "metadata": {},
   "source": [
    "### Query 6\n",
    " \n",
    "For measure Sum of \"Conso totale (MWh)\" \n",
    "Comparing \"Type EPCI\" ZZ vs CU \n",
    "grouped by \"Type IRIS\" \n",
    "\n",
    "Insight is: Mean Greater for ZZ \n",
    "\n",
    "\n"
   ]
  },
  {
   "cell_type": "code",
   "execution_count": 29,
   "id": "chicken-relative",
   "metadata": {},
   "outputs": [
    {
     "name": "stdout",
     "output_type": "stream",
     "text": [
      "1 rows affected.\n"
     ]
    },
    {
     "data": {
      "text/html": [
       "<table>\n",
       "    <tr>\n",
       "        <th>Type IRIS</th>\n",
       "        <th>Sum(Conso totale (MWh)) for Type EPCI = ZZ</th>\n",
       "        <th>Sum(Conso totale (MWh)) for Type EPCI = CU</th>\n",
       "    </tr>\n",
       "    <tr>\n",
       "        <td>Z</td>\n",
       "        <td>137349</td>\n",
       "        <td>54856</td>\n",
       "    </tr>\n",
       "</table>"
      ],
      "text/plain": [
       "[('Z', Decimal('137349'), Decimal('54856'))]"
      ]
     },
     "execution_count": 29,
     "metadata": {},
     "output_type": "execute_result"
    }
   ],
   "source": [
    "%%sql\n",
    "select t1.\"Type IRIS\", \n",
    "       t1.measure1 as \"Sum(Conso totale (MWh)) for Type EPCI = ZZ\", t2.measure2 as \"Sum(Conso totale (MWh)) for Type EPCI = CU\"  \n",
    "from \n",
    "  (select \"Type EPCI\", \"Type IRIS\", sum(\"Conso totale (MWh)\") as measure1 \n",
    "   from conso_iris \n",
    "   where  \"Type EPCI\" = 'ZZ' \n",
    "   group by \"Type EPCI\", \"Type IRIS\") t1, \n",
    "  (select \"Type EPCI\", \"Type IRIS\",sum(\"Conso totale (MWh)\") as measure2 \n",
    "   from conso_iris \n",
    "   where \"Type EPCI\" = 'CU' \n",
    "   group by \"Type EPCI\", \"Type IRIS\") t2 \n",
    "where t1.\"Type IRIS\" = t2.\"Type IRIS\" order by \"Type IRIS\"; \n"
   ]
  },
  {
   "cell_type": "markdown",
   "id": "unauthorized-school",
   "metadata": {},
   "source": [
    "### Query 7\n",
    " \n",
    "For measure Sum of \"Conso totale (MWh)\" \n",
    "Comparing \"Type EPCI\" ZZ vs 0 \n",
    "grouped by \"Type IRIS\" \n",
    "\n",
    "Insight is: Mean Greater for ZZ \n",
    "\n",
    "\n"
   ]
  },
  {
   "cell_type": "code",
   "execution_count": 30,
   "id": "strategic-workshop",
   "metadata": {},
   "outputs": [
    {
     "name": "stdout",
     "output_type": "stream",
     "text": [
      "1 rows affected.\n"
     ]
    },
    {
     "data": {
      "text/html": [
       "<table>\n",
       "    <tr>\n",
       "        <th>Type IRIS</th>\n",
       "        <th>Sum(Conso totale (MWh)) for Type EPCI = ZZ</th>\n",
       "        <th>Sum(Conso totale (MWh)) for Type EPCI = 0</th>\n",
       "    </tr>\n",
       "    <tr>\n",
       "        <td>Z</td>\n",
       "        <td>137349</td>\n",
       "        <td>118792</td>\n",
       "    </tr>\n",
       "</table>"
      ],
      "text/plain": [
       "[('Z', Decimal('137349'), Decimal('118792'))]"
      ]
     },
     "execution_count": 30,
     "metadata": {},
     "output_type": "execute_result"
    }
   ],
   "source": [
    "%%sql\n",
    "select t1.\"Type IRIS\", \n",
    "       t1.measure1 as \"Sum(Conso totale (MWh)) for Type EPCI = ZZ\", t2.measure2 as \"Sum(Conso totale (MWh)) for Type EPCI = 0\"  \n",
    "from \n",
    "  (select \"Type EPCI\", \"Type IRIS\", sum(\"Conso totale (MWh)\") as measure1 \n",
    "   from conso_iris \n",
    "   where  \"Type EPCI\" = 'ZZ' \n",
    "   group by \"Type EPCI\", \"Type IRIS\") t1, \n",
    "  (select \"Type EPCI\", \"Type IRIS\",sum(\"Conso totale (MWh)\") as measure2 \n",
    "   from conso_iris \n",
    "   where \"Type EPCI\" = '0' \n",
    "   group by \"Type EPCI\", \"Type IRIS\") t2 \n",
    "where t1.\"Type IRIS\" = t2.\"Type IRIS\" order by \"Type IRIS\"; \n"
   ]
  },
  {
   "cell_type": "markdown",
   "id": "transsexual-amplifier",
   "metadata": {},
   "source": [
    "### Query 8\n",
    " \n",
    "For measure Sum of \"Conso totale (MWh)\" \n",
    "Comparing \"Type EPCI\" ZZ vs nd \n",
    "grouped by \"Type IRIS\" \n",
    "\n",
    "Insight is: Mean Smaller for ZZ \n",
    "\n",
    "\n"
   ]
  },
  {
   "cell_type": "code",
   "execution_count": 31,
   "id": "narrow-effectiveness",
   "metadata": {},
   "outputs": [
    {
     "name": "stdout",
     "output_type": "stream",
     "text": [
      "1 rows affected.\n"
     ]
    },
    {
     "data": {
      "text/html": [
       "<table>\n",
       "    <tr>\n",
       "        <th>Type IRIS</th>\n",
       "        <th>Sum(Conso totale (MWh)) for Type EPCI = ZZ</th>\n",
       "        <th>Sum(Conso totale (MWh)) for Type EPCI = nd</th>\n",
       "    </tr>\n",
       "    <tr>\n",
       "        <td>Z</td>\n",
       "        <td>137349</td>\n",
       "        <td>421387</td>\n",
       "    </tr>\n",
       "</table>"
      ],
      "text/plain": [
       "[('Z', Decimal('137349'), Decimal('421387'))]"
      ]
     },
     "execution_count": 31,
     "metadata": {},
     "output_type": "execute_result"
    }
   ],
   "source": [
    "%%sql\n",
    "select t1.\"Type IRIS\", \n",
    "       t1.measure1 as \"Sum(Conso totale (MWh)) for Type EPCI = ZZ\", t2.measure2 as \"Sum(Conso totale (MWh)) for Type EPCI = nd\"  \n",
    "from \n",
    "  (select \"Type EPCI\", \"Type IRIS\", sum(\"Conso totale (MWh)\") as measure1 \n",
    "   from conso_iris \n",
    "   where  \"Type EPCI\" = 'ZZ' \n",
    "   group by \"Type EPCI\", \"Type IRIS\") t1, \n",
    "  (select \"Type EPCI\", \"Type IRIS\",sum(\"Conso totale (MWh)\") as measure2 \n",
    "   from conso_iris \n",
    "   where \"Type EPCI\" = 'nd' \n",
    "   group by \"Type EPCI\", \"Type IRIS\") t2 \n",
    "where t1.\"Type IRIS\" = t2.\"Type IRIS\" order by \"Type IRIS\"; \n"
   ]
  },
  {
   "cell_type": "markdown",
   "id": "premier-thong",
   "metadata": {},
   "source": [
    "### Query 9\n",
    " \n",
    "For measure Sum of \"Conso moyenne (MWh)\" \n",
    "Comparing \"Type EPCI\" ZZ vs nd \n",
    "grouped by \"Nom Département\" \n",
    "\n",
    "Insight is: Mean Greater for ZZ \n",
    "\n",
    "\n"
   ]
  },
  {
   "cell_type": "code",
   "execution_count": 32,
   "id": "focused-worst",
   "metadata": {},
   "outputs": [
    {
     "name": "stdout",
     "output_type": "stream",
     "text": [
      "2 rows affected.\n"
     ]
    },
    {
     "data": {
      "text/html": [
       "<table>\n",
       "    <tr>\n",
       "        <th>Nom Département</th>\n",
       "        <th>Sum(Conso moyenne (MWh)) for Type EPCI = ZZ</th>\n",
       "        <th>Sum(Conso moyenne (MWh)) for Type EPCI = nd</th>\n",
       "    </tr>\n",
       "    <tr>\n",
       "        <td>Côtes-d&#x27;Armor</td>\n",
       "        <td>26105</td>\n",
       "        <td>6748</td>\n",
       "    </tr>\n",
       "    <tr>\n",
       "        <td>Finistère</td>\n",
       "        <td>590</td>\n",
       "        <td>1077</td>\n",
       "    </tr>\n",
       "</table>"
      ],
      "text/plain": [
       "[(\"Côtes-d'Armor\", Decimal('26105'), Decimal('6748')),\n",
       " ('Finistère', Decimal('590'), Decimal('1077'))]"
      ]
     },
     "execution_count": 32,
     "metadata": {},
     "output_type": "execute_result"
    }
   ],
   "source": [
    "%%sql\n",
    "select t1.\"Nom Département\", \n",
    "       t1.measure1 as \"Sum(Conso moyenne (MWh)) for Type EPCI = ZZ\", t2.measure2 as \"Sum(Conso moyenne (MWh)) for Type EPCI = nd\"  \n",
    "from \n",
    "  (select \"Type EPCI\", \"Nom Département\", sum(\"Conso moyenne (MWh)\") as measure1 \n",
    "   from conso_iris \n",
    "   where  \"Type EPCI\" = 'ZZ' \n",
    "   group by \"Type EPCI\", \"Nom Département\") t1, \n",
    "  (select \"Type EPCI\", \"Nom Département\",sum(\"Conso moyenne (MWh)\") as measure2 \n",
    "   from conso_iris \n",
    "   where \"Type EPCI\" = 'nd' \n",
    "   group by \"Type EPCI\", \"Nom Département\") t2 \n",
    "where t1.\"Nom Département\" = t2.\"Nom Département\" order by \"Nom Département\"; \n"
   ]
  },
  {
   "cell_type": "markdown",
   "id": "incident-platform",
   "metadata": {},
   "source": [
    "### Query 10\n",
    " \n",
    "For measure Sum of \"Conso totale (MWh)\" \n",
    "Comparing \"Type EPCI\" 0 vs CU \n",
    "grouped by \"Nom Département\" \n",
    "\n",
    "Insight is: Mean Smaller for 0 \n",
    "\n",
    "\n"
   ]
  },
  {
   "cell_type": "code",
   "execution_count": 33,
   "id": "micro-vanilla",
   "metadata": {},
   "outputs": [
    {
     "name": "stdout",
     "output_type": "stream",
     "text": [
      "1 rows affected.\n"
     ]
    },
    {
     "data": {
      "text/html": [
       "<table>\n",
       "    <tr>\n",
       "        <th>Nom Département</th>\n",
       "        <th>Sum(Conso totale (MWh)) for Type EPCI = 0</th>\n",
       "        <th>Sum(Conso totale (MWh)) for Type EPCI = CU</th>\n",
       "    </tr>\n",
       "    <tr>\n",
       "        <td>Finistère</td>\n",
       "        <td>9136</td>\n",
       "        <td>3747913</td>\n",
       "    </tr>\n",
       "</table>"
      ],
      "text/plain": [
       "[('Finistère', Decimal('9136'), Decimal('3747913'))]"
      ]
     },
     "execution_count": 33,
     "metadata": {},
     "output_type": "execute_result"
    }
   ],
   "source": [
    "%%sql\n",
    "select t1.\"Nom Département\", \n",
    "       t1.measure1 as \"Sum(Conso totale (MWh)) for Type EPCI = 0\", t2.measure2 as \"Sum(Conso totale (MWh)) for Type EPCI = CU\"  \n",
    "from \n",
    "  (select \"Type EPCI\", \"Nom Département\", sum(\"Conso totale (MWh)\") as measure1 \n",
    "   from conso_iris \n",
    "   where  \"Type EPCI\" = '0' \n",
    "   group by \"Type EPCI\", \"Nom Département\") t1, \n",
    "  (select \"Type EPCI\", \"Nom Département\",sum(\"Conso totale (MWh)\") as measure2 \n",
    "   from conso_iris \n",
    "   where \"Type EPCI\" = 'CU' \n",
    "   group by \"Type EPCI\", \"Nom Département\") t2 \n",
    "where t1.\"Nom Département\" = t2.\"Nom Département\" order by \"Nom Département\"; \n"
   ]
  },
  {
   "cell_type": "code",
   "execution_count": null,
   "id": "residential-disco",
   "metadata": {},
   "outputs": [],
   "source": []
  },
  {
   "cell_type": "code",
   "execution_count": null,
   "id": "sixth-gardening",
   "metadata": {},
   "outputs": [],
   "source": []
  },
  {
   "cell_type": "code",
   "execution_count": null,
   "id": "tribal-success",
   "metadata": {},
   "outputs": [],
   "source": []
  },
  {
   "cell_type": "code",
   "execution_count": null,
   "id": "hydraulic-handy",
   "metadata": {},
   "outputs": [],
   "source": []
  },
  {
   "cell_type": "code",
   "execution_count": null,
   "id": "velvet-indication",
   "metadata": {},
   "outputs": [],
   "source": []
  }
 ],
 "metadata": {
  "kernelspec": {
   "display_name": "Python 3",
   "language": "python",
   "name": "python3"
  },
  "language_info": {
   "codemirror_mode": {
    "name": "ipython",
    "version": 3
   },
   "file_extension": ".py",
   "mimetype": "text/x-python",
   "name": "python",
   "nbconvert_exporter": "python",
   "pygments_lexer": "ipython3",
   "version": "3.8.10"
  }
 },
 "nbformat": 4,
 "nbformat_minor": 5
}
