{
 "cells": [
  {
   "cell_type": "markdown",
   "id": "frequent-consultancy",
   "metadata": {},
   "source": [
    "# SQL comparison notebooks <dataset_name>\n",
    "This data analysis was automatically generated using the TAP algorithm."
   ]
  },
  {
   "cell_type": "code",
   "execution_count": 12,
   "id": "applied-backup",
   "metadata": {},
   "outputs": [
    {
     "name": "stdout",
     "output_type": "stream",
     "text": [
      "The sql extension is already loaded. To reload it, use:\n",
      "  %reload_ext sql\n"
     ]
    }
   ],
   "source": [
    "import sqlalchemy\n",
    "sqlalchemy.create_engine(\"postgresql://localhost:5432/covid?user=marcel&password=1598marcel\")\n",
    "%load_ext sql\n",
    "%sql postgresql://localhost:5432/covid?user=marcel&password=1598marcel\n",
    "%config SqlMagic.displaycon=False"
   ]
  },
  {
   "cell_type": "markdown",
   "id": "individual-richmond",
   "metadata": {},
   "source": [
    "### Query 1\n",
    " \n",
    "For measure Sum of \"Conso totale (MWh)\" \n",
    "Comparing \"CODE CATEGORIE CONSOMMATION\" ENT vs PRO \n",
    "grouped by \"Type IRIS\" \n",
    "\n",
    "Insight is: Mean Greater for ENT \n",
    "\n",
    "\n"
   ]
  },
  {
   "cell_type": "code",
   "execution_count": 13,
   "id": "cathedral-accreditation",
   "metadata": {},
   "outputs": [
    {
     "name": "stdout",
     "output_type": "stream",
     "text": [
      "6 rows affected.\n"
     ]
    },
    {
     "data": {
      "text/html": [
       "<table>\n",
       "    <tr>\n",
       "        <th>Type IRIS</th>\n",
       "        <th>Sum(Conso totale (MWh)) for CODE CATEGORIE CONSOMMATION = ENT</th>\n",
       "        <th>Sum(Conso totale (MWh)) for CODE CATEGORIE CONSOMMATION = PRO</th>\n",
       "    </tr>\n",
       "    <tr>\n",
       "        <td>A</td>\n",
       "        <td>5862856</td>\n",
       "        <td>651146</td>\n",
       "    </tr>\n",
       "    <tr>\n",
       "        <td>D</td>\n",
       "        <td>2606619</td>\n",
       "        <td>243015</td>\n",
       "    </tr>\n",
       "    <tr>\n",
       "        <td>F</td>\n",
       "        <td>91849</td>\n",
       "        <td>3974</td>\n",
       "    </tr>\n",
       "    <tr>\n",
       "        <td>H</td>\n",
       "        <td>29581570</td>\n",
       "        <td>9121905</td>\n",
       "    </tr>\n",
       "    <tr>\n",
       "        <td>Z</td>\n",
       "        <td>42134482</td>\n",
       "        <td>12470034</td>\n",
       "    </tr>\n",
       "    <tr>\n",
       "        <td>_</td>\n",
       "        <td>1287587</td>\n",
       "        <td>82903</td>\n",
       "    </tr>\n",
       "</table>"
      ],
      "text/plain": [
       "[('A', Decimal('5862856'), Decimal('651146')),\n",
       " ('D', Decimal('2606619'), Decimal('243015')),\n",
       " ('F', Decimal('91849'), Decimal('3974')),\n",
       " ('H', Decimal('29581570'), Decimal('9121905')),\n",
       " ('Z', Decimal('42134482'), Decimal('12470034')),\n",
       " ('_', Decimal('1287587'), Decimal('82903'))]"
      ]
     },
     "execution_count": 13,
     "metadata": {},
     "output_type": "execute_result"
    }
   ],
   "source": [
    "%%sql\n",
    "select t1.\"Type IRIS\", \n",
    "       t1.measure1 as \"Sum(Conso totale (MWh)) for CODE CATEGORIE CONSOMMATION = ENT\", t2.measure2 as \"Sum(Conso totale (MWh)) for CODE CATEGORIE CONSOMMATION = PRO\"  \n",
    "from \n",
    "  (select \"CODE CATEGORIE CONSOMMATION\", \"Type IRIS\", sum(\"Conso totale (MWh)\") as measure1 \n",
    "   from conso_iris \n",
    "   where  \"CODE CATEGORIE CONSOMMATION\" = 'ENT' \n",
    "   group by \"CODE CATEGORIE CONSOMMATION\", \"Type IRIS\") t1, \n",
    "  (select \"CODE CATEGORIE CONSOMMATION\", \"Type IRIS\",sum(\"Conso totale (MWh)\") as measure2 \n",
    "   from conso_iris \n",
    "   where \"CODE CATEGORIE CONSOMMATION\" = 'PRO' \n",
    "   group by \"CODE CATEGORIE CONSOMMATION\", \"Type IRIS\") t2 \n",
    "where t1.\"Type IRIS\" = t2.\"Type IRIS\" order by \"Type IRIS\"; \n"
   ]
  },
  {
   "cell_type": "markdown",
   "id": "sunset-attachment",
   "metadata": {},
   "source": [
    "### Query 2\n",
    " \n",
    "For measure Sum of \"Conso moyenne (MWh)\" \n",
    "Comparing \"CODE GRAND SECTEUR\" INCONNU vs RESIDENTIEL \n",
    "grouped by \"Type IRIS\" \n",
    "\n",
    "Insight is: Variance Equals for INCONNU \n",
    "\n",
    "\n"
   ]
  },
  {
   "cell_type": "code",
   "execution_count": 14,
   "id": "natural-banner",
   "metadata": {},
   "outputs": [
    {
     "name": "stdout",
     "output_type": "stream",
     "text": [
      "6 rows affected.\n"
     ]
    },
    {
     "data": {
      "text/html": [
       "<table>\n",
       "    <tr>\n",
       "        <th>Type IRIS</th>\n",
       "        <th>Sum(Conso moyenne (MWh)) for CODE GRAND SECTEUR = INCONNU</th>\n",
       "        <th>Sum(Conso moyenne (MWh)) for CODE GRAND SECTEUR = RESIDENTIEL</th>\n",
       "    </tr>\n",
       "    <tr>\n",
       "        <td>A</td>\n",
       "        <td>2788</td>\n",
       "        <td>1408</td>\n",
       "    </tr>\n",
       "    <tr>\n",
       "        <td>D</td>\n",
       "        <td>2395</td>\n",
       "        <td>1470</td>\n",
       "    </tr>\n",
       "    <tr>\n",
       "        <td>F</td>\n",
       "        <td>96</td>\n",
       "        <td>76</td>\n",
       "    </tr>\n",
       "    <tr>\n",
       "        <td>H</td>\n",
       "        <td>30200</td>\n",
       "        <td>19853</td>\n",
       "    </tr>\n",
       "    <tr>\n",
       "        <td>Z</td>\n",
       "        <td>63041</td>\n",
       "        <td>60213</td>\n",
       "    </tr>\n",
       "    <tr>\n",
       "        <td>_</td>\n",
       "        <td>23149</td>\n",
       "        <td>1199</td>\n",
       "    </tr>\n",
       "</table>"
      ],
      "text/plain": [
       "[('A', Decimal('2788'), Decimal('1408')),\n",
       " ('D', Decimal('2395'), Decimal('1470')),\n",
       " ('F', Decimal('96'), Decimal('76')),\n",
       " ('H', Decimal('30200'), Decimal('19853')),\n",
       " ('Z', Decimal('63041'), Decimal('60213')),\n",
       " ('_', Decimal('23149'), Decimal('1199'))]"
      ]
     },
     "execution_count": 14,
     "metadata": {},
     "output_type": "execute_result"
    }
   ],
   "source": [
    "%%sql\n",
    "select t1.\"Type IRIS\", \n",
    "       t1.measure1 as \"Sum(Conso moyenne (MWh)) for CODE GRAND SECTEUR = INCONNU\", t2.measure2 as \"Sum(Conso moyenne (MWh)) for CODE GRAND SECTEUR = RESIDENTIEL\"  \n",
    "from \n",
    "  (select \"CODE GRAND SECTEUR\", \"Type IRIS\", sum(\"Conso moyenne (MWh)\") as measure1 \n",
    "   from conso_iris \n",
    "   where  \"CODE GRAND SECTEUR\" = 'INCONNU' \n",
    "   group by \"CODE GRAND SECTEUR\", \"Type IRIS\") t1, \n",
    "  (select \"CODE GRAND SECTEUR\", \"Type IRIS\",sum(\"Conso moyenne (MWh)\") as measure2 \n",
    "   from conso_iris \n",
    "   where \"CODE GRAND SECTEUR\" = 'RESIDENTIEL' \n",
    "   group by \"CODE GRAND SECTEUR\", \"Type IRIS\") t2 \n",
    "where t1.\"Type IRIS\" = t2.\"Type IRIS\" order by \"Type IRIS\"; \n"
   ]
  },
  {
   "cell_type": "markdown",
   "id": "round-trailer",
   "metadata": {},
   "source": [
    "### Query 3\n",
    " \n",
    "For measure Sum of \"Conso moyenne (MWh)\" \n",
    "Comparing \"CODE GRAND SECTEUR\" INCONNU vs PETIT_PROFESSIONNEL \n",
    "grouped by \"Type EPCI\" \n",
    "\n",
    "Insight is: Mean Smaller for INCONNU \n",
    "\n",
    "\n"
   ]
  },
  {
   "cell_type": "code",
   "execution_count": 15,
   "id": "absent-forge",
   "metadata": {},
   "outputs": [
    {
     "name": "stdout",
     "output_type": "stream",
     "text": [
      "7 rows affected.\n"
     ]
    },
    {
     "data": {
      "text/html": [
       "<table>\n",
       "    <tr>\n",
       "        <th>Type EPCI</th>\n",
       "        <th>Sum(Conso moyenne (MWh)) for CODE GRAND SECTEUR = INCONNU</th>\n",
       "        <th>Sum(Conso moyenne (MWh)) for CODE GRAND SECTEUR = PETIT_PROFESS</th>\n",
       "    </tr>\n",
       "    <tr>\n",
       "        <td>0</td>\n",
       "        <td>0</td>\n",
       "        <td>300</td>\n",
       "    </tr>\n",
       "    <tr>\n",
       "        <td>CA</td>\n",
       "        <td>53848</td>\n",
       "        <td>40129</td>\n",
       "    </tr>\n",
       "    <tr>\n",
       "        <td>CC</td>\n",
       "        <td>58507</td>\n",
       "        <td>94040</td>\n",
       "    </tr>\n",
       "    <tr>\n",
       "        <td>CU</td>\n",
       "        <td>1897</td>\n",
       "        <td>3107</td>\n",
       "    </tr>\n",
       "    <tr>\n",
       "        <td>ME</td>\n",
       "        <td>7243</td>\n",
       "        <td>7017</td>\n",
       "    </tr>\n",
       "    <tr>\n",
       "        <td>ZZ</td>\n",
       "        <td>40</td>\n",
       "        <td>60</td>\n",
       "    </tr>\n",
       "    <tr>\n",
       "        <td>nd</td>\n",
       "        <td>134</td>\n",
       "        <td>548</td>\n",
       "    </tr>\n",
       "</table>"
      ],
      "text/plain": [
       "[('0', Decimal('0'), Decimal('300')),\n",
       " ('CA', Decimal('53848'), Decimal('40129')),\n",
       " ('CC', Decimal('58507'), Decimal('94040')),\n",
       " ('CU', Decimal('1897'), Decimal('3107')),\n",
       " ('ME', Decimal('7243'), Decimal('7017')),\n",
       " ('ZZ', Decimal('40'), Decimal('60')),\n",
       " ('nd', Decimal('134'), Decimal('548'))]"
      ]
     },
     "execution_count": 15,
     "metadata": {},
     "output_type": "execute_result"
    }
   ],
   "source": [
    "%%sql\n",
    "select t1.\"Type EPCI\", \n",
    "       t1.measure1 as \"Sum(Conso moyenne (MWh)) for CODE GRAND SECTEUR = INCONNU\", t2.measure2 as \"Sum(Conso moyenne (MWh)) for CODE GRAND SECTEUR = PETIT_PROFESSIONNEL\"  \n",
    "from \n",
    "  (select \"CODE GRAND SECTEUR\", \"Type EPCI\", sum(\"Conso moyenne (MWh)\") as measure1 \n",
    "   from conso_iris \n",
    "   where  \"CODE GRAND SECTEUR\" = 'INCONNU' \n",
    "   group by \"CODE GRAND SECTEUR\", \"Type EPCI\") t1, \n",
    "  (select \"CODE GRAND SECTEUR\", \"Type EPCI\",sum(\"Conso moyenne (MWh)\") as measure2 \n",
    "   from conso_iris \n",
    "   where \"CODE GRAND SECTEUR\" = 'PETIT_PROFESSIONNEL' \n",
    "   group by \"CODE GRAND SECTEUR\", \"Type EPCI\") t2 \n",
    "where t1.\"Type EPCI\" = t2.\"Type EPCI\" order by \"Type EPCI\"; \n"
   ]
  },
  {
   "cell_type": "markdown",
   "id": "incorporate-scientist",
   "metadata": {},
   "source": [
    "### Query 4\n",
    " \n",
    "For measure Sum of \"Conso totale (MWh)\" \n",
    "Comparing \"CODE GRAND SECTEUR\" AGRICULTURE vs TERTIAIRE \n",
    "grouped by \"Type EPCI\" \n",
    "\n",
    "Insight is: Mean Smaller for AGRICULTURE \n",
    "\n",
    "\n"
   ]
  },
  {
   "cell_type": "code",
   "execution_count": 16,
   "id": "portable-solution",
   "metadata": {},
   "outputs": [
    {
     "name": "stdout",
     "output_type": "stream",
     "text": [
      "7 rows affected.\n"
     ]
    },
    {
     "data": {
      "text/html": [
       "<table>\n",
       "    <tr>\n",
       "        <th>Type EPCI</th>\n",
       "        <th>Sum(Conso totale (MWh)) for CODE GRAND SECTEUR = AGRICULTURE</th>\n",
       "        <th>Sum(Conso totale (MWh)) for CODE GRAND SECTEUR = TERTIAIRE</th>\n",
       "    </tr>\n",
       "    <tr>\n",
       "        <td>0</td>\n",
       "        <td>10603</td>\n",
       "        <td>4771</td>\n",
       "    </tr>\n",
       "    <tr>\n",
       "        <td>CA</td>\n",
       "        <td>1461535</td>\n",
       "        <td>16890921</td>\n",
       "    </tr>\n",
       "    <tr>\n",
       "        <td>CC</td>\n",
       "        <td>5523552</td>\n",
       "        <td>16359376</td>\n",
       "    </tr>\n",
       "    <tr>\n",
       "        <td>CU</td>\n",
       "        <td>50895</td>\n",
       "        <td>1269637</td>\n",
       "    </tr>\n",
       "    <tr>\n",
       "        <td>ME</td>\n",
       "        <td>154495</td>\n",
       "        <td>6331923</td>\n",
       "    </tr>\n",
       "    <tr>\n",
       "        <td>ZZ</td>\n",
       "        <td>333</td>\n",
       "        <td>12530</td>\n",
       "    </tr>\n",
       "    <tr>\n",
       "        <td>nd</td>\n",
       "        <td>3729</td>\n",
       "        <td>259542</td>\n",
       "    </tr>\n",
       "</table>"
      ],
      "text/plain": [
       "[('0', Decimal('10603'), Decimal('4771')),\n",
       " ('CA', Decimal('1461535'), Decimal('16890921')),\n",
       " ('CC', Decimal('5523552'), Decimal('16359376')),\n",
       " ('CU', Decimal('50895'), Decimal('1269637')),\n",
       " ('ME', Decimal('154495'), Decimal('6331923')),\n",
       " ('ZZ', Decimal('333'), Decimal('12530')),\n",
       " ('nd', Decimal('3729'), Decimal('259542'))]"
      ]
     },
     "execution_count": 16,
     "metadata": {},
     "output_type": "execute_result"
    }
   ],
   "source": [
    "%%sql\n",
    "select t1.\"Type EPCI\", \n",
    "       t1.measure1 as \"Sum(Conso totale (MWh)) for CODE GRAND SECTEUR = AGRICULTURE\", t2.measure2 as \"Sum(Conso totale (MWh)) for CODE GRAND SECTEUR = TERTIAIRE\"  \n",
    "from \n",
    "  (select \"CODE GRAND SECTEUR\", \"Type EPCI\", sum(\"Conso totale (MWh)\") as measure1 \n",
    "   from conso_iris \n",
    "   where  \"CODE GRAND SECTEUR\" = 'AGRICULTURE' \n",
    "   group by \"CODE GRAND SECTEUR\", \"Type EPCI\") t1, \n",
    "  (select \"CODE GRAND SECTEUR\", \"Type EPCI\",sum(\"Conso totale (MWh)\") as measure2 \n",
    "   from conso_iris \n",
    "   where \"CODE GRAND SECTEUR\" = 'TERTIAIRE' \n",
    "   group by \"CODE GRAND SECTEUR\", \"Type EPCI\") t2 \n",
    "where t1.\"Type EPCI\" = t2.\"Type EPCI\" order by \"Type EPCI\"; \n"
   ]
  },
  {
   "cell_type": "markdown",
   "id": "correct-contrary",
   "metadata": {},
   "source": [
    "### Query 5\n",
    " \n",
    "For measure Sum of \"Conso totale (MWh)\" \n",
    "Comparing \"Nom Département\" Morbihan vs Finistère \n",
    "grouped by \"Type EPCI\" \n",
    "\n",
    "Insight is: Variance Equals for Morbihan, Insight is: Mean Greater for Morbihan \n",
    "\n",
    "\n"
   ]
  },
  {
   "cell_type": "code",
   "execution_count": 17,
   "id": "imperial-graduate",
   "metadata": {},
   "outputs": [
    {
     "name": "stdout",
     "output_type": "stream",
     "text": [
      "4 rows affected.\n"
     ]
    },
    {
     "data": {
      "text/html": [
       "<table>\n",
       "    <tr>\n",
       "        <th>Type EPCI</th>\n",
       "        <th>Sum(Conso totale (MWh)) for Nom Département = Morbihan</th>\n",
       "        <th>Sum(Conso totale (MWh)) for Nom Département = Finistère</th>\n",
       "    </tr>\n",
       "    <tr>\n",
       "        <td>0</td>\n",
       "        <td>41565</td>\n",
       "        <td>9136</td>\n",
       "    </tr>\n",
       "    <tr>\n",
       "        <td>CA</td>\n",
       "        <td>16783244</td>\n",
       "        <td>12244287</td>\n",
       "    </tr>\n",
       "    <tr>\n",
       "        <td>CC</td>\n",
       "        <td>25620032</td>\n",
       "        <td>26689541</td>\n",
       "    </tr>\n",
       "    <tr>\n",
       "        <td>nd</td>\n",
       "        <td>518907</td>\n",
       "        <td>29978</td>\n",
       "    </tr>\n",
       "</table>"
      ],
      "text/plain": [
       "[('0', Decimal('41565'), Decimal('9136')),\n",
       " ('CA', Decimal('16783244'), Decimal('12244287')),\n",
       " ('CC', Decimal('25620032'), Decimal('26689541')),\n",
       " ('nd', Decimal('518907'), Decimal('29978'))]"
      ]
     },
     "execution_count": 17,
     "metadata": {},
     "output_type": "execute_result"
    }
   ],
   "source": [
    "%%sql\n",
    "select t1.\"Type EPCI\", \n",
    "       t1.measure1 as \"Sum(Conso totale (MWh)) for Nom Département = Morbihan\", t2.measure2 as \"Sum(Conso totale (MWh)) for Nom Département = Finistère\"  \n",
    "from \n",
    "  (select \"Nom Département\", \"Type EPCI\", sum(\"Conso totale (MWh)\") as measure1 \n",
    "   from conso_iris \n",
    "   where  \"Nom Département\" = 'Morbihan' \n",
    "   group by \"Nom Département\", \"Type EPCI\") t1, \n",
    "  (select \"Nom Département\", \"Type EPCI\",sum(\"Conso totale (MWh)\") as measure2 \n",
    "   from conso_iris \n",
    "   where \"Nom Département\" = 'Finistère' \n",
    "   group by \"Nom Département\", \"Type EPCI\") t2 \n",
    "where t1.\"Type EPCI\" = t2.\"Type EPCI\" order by \"Type EPCI\"; \n"
   ]
  },
  {
   "cell_type": "markdown",
   "id": "valid-meter",
   "metadata": {},
   "source": [
    "### Query 6\n",
    " \n",
    "For measure Sum of \"Conso moyenne (MWh)\" \n",
    "Comparing \"Nom Département\" Finistère vs Ille-et-Vilaine \n",
    "grouped by \"Type EPCI\" \n",
    "\n",
    "Insight is: Variance Equals for Finistère \n",
    "\n",
    "\n"
   ]
  },
  {
   "cell_type": "code",
   "execution_count": 18,
   "id": "first-average",
   "metadata": {},
   "outputs": [
    {
     "name": "stdout",
     "output_type": "stream",
     "text": [
      "5 rows affected.\n"
     ]
    },
    {
     "data": {
      "text/html": [
       "<table>\n",
       "    <tr>\n",
       "        <th>Type EPCI</th>\n",
       "        <th>Sum(Conso moyenne (MWh)) for Nom Département = Finistère</th>\n",
       "        <th>Sum(Conso moyenne (MWh)) for Nom Département = Ille-et-Vilaine</th>\n",
       "    </tr>\n",
       "    <tr>\n",
       "        <td>0</td>\n",
       "        <td>566</td>\n",
       "        <td>717</td>\n",
       "    </tr>\n",
       "    <tr>\n",
       "        <td>CA</td>\n",
       "        <td>1240972</td>\n",
       "        <td>2295196</td>\n",
       "    </tr>\n",
       "    <tr>\n",
       "        <td>CC</td>\n",
       "        <td>2752537</td>\n",
       "        <td>2355870</td>\n",
       "    </tr>\n",
       "    <tr>\n",
       "        <td>ME</td>\n",
       "        <td>573324</td>\n",
       "        <td>1372095</td>\n",
       "    </tr>\n",
       "    <tr>\n",
       "        <td>nd</td>\n",
       "        <td>1077</td>\n",
       "        <td>7734</td>\n",
       "    </tr>\n",
       "</table>"
      ],
      "text/plain": [
       "[('0', Decimal('566'), Decimal('717')),\n",
       " ('CA', Decimal('1240972'), Decimal('2295196')),\n",
       " ('CC', Decimal('2752537'), Decimal('2355870')),\n",
       " ('ME', Decimal('573324'), Decimal('1372095')),\n",
       " ('nd', Decimal('1077'), Decimal('7734'))]"
      ]
     },
     "execution_count": 18,
     "metadata": {},
     "output_type": "execute_result"
    }
   ],
   "source": [
    "%%sql\n",
    "select t1.\"Type EPCI\", \n",
    "       t1.measure1 as \"Sum(Conso moyenne (MWh)) for Nom Département = Finistère\", t2.measure2 as \"Sum(Conso moyenne (MWh)) for Nom Département = Ille-et-Vilaine\"  \n",
    "from \n",
    "  (select \"Nom Département\", \"Type EPCI\", sum(\"Conso moyenne (MWh)\") as measure1 \n",
    "   from conso_iris \n",
    "   where  \"Nom Département\" = 'Finistère' \n",
    "   group by \"Nom Département\", \"Type EPCI\") t1, \n",
    "  (select \"Nom Département\", \"Type EPCI\",sum(\"Conso moyenne (MWh)\") as measure2 \n",
    "   from conso_iris \n",
    "   where \"Nom Département\" = 'Ille-et-Vilaine' \n",
    "   group by \"Nom Département\", \"Type EPCI\") t2 \n",
    "where t1.\"Type EPCI\" = t2.\"Type EPCI\" order by \"Type EPCI\"; \n"
   ]
  },
  {
   "cell_type": "markdown",
   "id": "powered-anaheim",
   "metadata": {},
   "source": [
    "### Query 7\n",
    " \n",
    "For measure Sum of \"Conso moyenne (MWh)\" \n",
    "Comparing \"Nom Département\" Finistère vs Côtes-d'Armor \n",
    "grouped by \"CODE GRAND SECTEUR\" \n",
    "\n",
    "Insight is: Mean Greater for Finistère \n",
    "\n",
    "\n"
   ]
  },
  {
   "cell_type": "code",
   "execution_count": 19,
   "id": "ongoing-bathroom",
   "metadata": {},
   "outputs": [
    {
     "name": "stdout",
     "output_type": "stream",
     "text": [
      "6 rows affected.\n"
     ]
    },
    {
     "data": {
      "text/html": [
       "<table>\n",
       "    <tr>\n",
       "        <th>CODE GRAND SECTEUR</th>\n",
       "        <th>Sum(Conso moyenne (MWh)) for Nom Département = Finistère</th>\n",
       "        <th>Sum(Conso moyenne (MWh)) for Nom Département = Côtes-d&#x27;Armor</th>\n",
       "    </tr>\n",
       "    <tr>\n",
       "        <td>AGRICULTURE</td>\n",
       "        <td>537315</td>\n",
       "        <td>527612</td>\n",
       "    </tr>\n",
       "    <tr>\n",
       "        <td>INCONNU</td>\n",
       "        <td>16666</td>\n",
       "        <td>31728</td>\n",
       "    </tr>\n",
       "    <tr>\n",
       "        <td>INDUSTRIE</td>\n",
       "        <td>2159902</td>\n",
       "        <td>2001224</td>\n",
       "    </tr>\n",
       "    <tr>\n",
       "        <td>PETIT_PROFESSIONNEL</td>\n",
       "        <td>34219</td>\n",
       "        <td>38981</td>\n",
       "    </tr>\n",
       "    <tr>\n",
       "        <td>RESIDENTIEL</td>\n",
       "        <td>20208</td>\n",
       "        <td>20763</td>\n",
       "    </tr>\n",
       "    <tr>\n",
       "        <td>TERTIAIRE</td>\n",
       "        <td>1977582</td>\n",
       "        <td>1447093</td>\n",
       "    </tr>\n",
       "</table>"
      ],
      "text/plain": [
       "[('AGRICULTURE', Decimal('537315'), Decimal('527612')),\n",
       " ('INCONNU', Decimal('16666'), Decimal('31728')),\n",
       " ('INDUSTRIE', Decimal('2159902'), Decimal('2001224')),\n",
       " ('PETIT_PROFESSIONNEL', Decimal('34219'), Decimal('38981')),\n",
       " ('RESIDENTIEL', Decimal('20208'), Decimal('20763')),\n",
       " ('TERTIAIRE', Decimal('1977582'), Decimal('1447093'))]"
      ]
     },
     "execution_count": 19,
     "metadata": {},
     "output_type": "execute_result"
    }
   ],
   "source": [
    "%%sql\n",
    "select t1.\"CODE GRAND SECTEUR\", \n",
    "       t1.measure1 as \"Sum(Conso moyenne (MWh)) for Nom Département = Finistère\", t2.measure2 as \"Sum(Conso moyenne (MWh)) for Nom Département = Côtes-d'Armor\"  \n",
    "from \n",
    "  (select \"Nom Département\", \"CODE GRAND SECTEUR\", sum(\"Conso moyenne (MWh)\") as measure1 \n",
    "   from conso_iris \n",
    "   where  \"Nom Département\" = 'Finistère' \n",
    "   group by \"Nom Département\", \"CODE GRAND SECTEUR\") t1, \n",
    "  (select \"Nom Département\", \"CODE GRAND SECTEUR\",sum(\"Conso moyenne (MWh)\") as measure2 \n",
    "   from conso_iris \n",
    "   where \"Nom Département\" = 'Côtes-d''Armor' \n",
    "   group by \"Nom Département\", \"CODE GRAND SECTEUR\") t2 \n",
    "where t1.\"CODE GRAND SECTEUR\" = t2.\"CODE GRAND SECTEUR\" order by \"CODE GRAND SECTEUR\"; \n"
   ]
  },
  {
   "cell_type": "markdown",
   "id": "comparative-fever",
   "metadata": {},
   "source": [
    "### Query 8\n",
    " \n",
    "For measure Sum of \"Conso totale (MWh)\" \n",
    "Comparing \"Type IRIS\" D vs F \n",
    "grouped by \"CODE GRAND SECTEUR\" \n",
    "\n",
    "Insight is: Mean Greater for D \n",
    "\n",
    "\n"
   ]
  },
  {
   "cell_type": "code",
   "execution_count": 20,
   "id": "protected-business",
   "metadata": {},
   "outputs": [
    {
     "name": "stdout",
     "output_type": "stream",
     "text": [
      "5 rows affected.\n"
     ]
    },
    {
     "data": {
      "text/html": [
       "<table>\n",
       "    <tr>\n",
       "        <th>CODE GRAND SECTEUR</th>\n",
       "        <th>Sum(Conso totale (MWh)) for Type IRIS = D</th>\n",
       "        <th>Sum(Conso totale (MWh)) for Type IRIS = F</th>\n",
       "    </tr>\n",
       "    <tr>\n",
       "        <td>AGRICULTURE</td>\n",
       "        <td>60572</td>\n",
       "        <td>2928</td>\n",
       "    </tr>\n",
       "    <tr>\n",
       "        <td>INCONNU</td>\n",
       "        <td>12540</td>\n",
       "        <td>744</td>\n",
       "    </tr>\n",
       "    <tr>\n",
       "        <td>INDUSTRIE</td>\n",
       "        <td>987403</td>\n",
       "        <td>39352</td>\n",
       "    </tr>\n",
       "    <tr>\n",
       "        <td>RESIDENTIEL</td>\n",
       "        <td>560893</td>\n",
       "        <td>12857</td>\n",
       "    </tr>\n",
       "    <tr>\n",
       "        <td>TERTIAIRE</td>\n",
       "        <td>1598270</td>\n",
       "        <td>52799</td>\n",
       "    </tr>\n",
       "</table>"
      ],
      "text/plain": [
       "[('AGRICULTURE', Decimal('60572'), Decimal('2928')),\n",
       " ('INCONNU', Decimal('12540'), Decimal('744')),\n",
       " ('INDUSTRIE', Decimal('987403'), Decimal('39352')),\n",
       " ('RESIDENTIEL', Decimal('560893'), Decimal('12857')),\n",
       " ('TERTIAIRE', Decimal('1598270'), Decimal('52799'))]"
      ]
     },
     "execution_count": 20,
     "metadata": {},
     "output_type": "execute_result"
    }
   ],
   "source": [
    "%%sql\n",
    "select t1.\"CODE GRAND SECTEUR\", \n",
    "       t1.measure1 as \"Sum(Conso totale (MWh)) for Type IRIS = D\", t2.measure2 as \"Sum(Conso totale (MWh)) for Type IRIS = F\"  \n",
    "from \n",
    "  (select \"Type IRIS\", \"CODE GRAND SECTEUR\", sum(\"Conso totale (MWh)\") as measure1 \n",
    "   from conso_iris \n",
    "   where  \"Type IRIS\" = 'D' \n",
    "   group by \"Type IRIS\", \"CODE GRAND SECTEUR\") t1, \n",
    "  (select \"Type IRIS\", \"CODE GRAND SECTEUR\",sum(\"Conso totale (MWh)\") as measure2 \n",
    "   from conso_iris \n",
    "   where \"Type IRIS\" = 'F' \n",
    "   group by \"Type IRIS\", \"CODE GRAND SECTEUR\") t2 \n",
    "where t1.\"CODE GRAND SECTEUR\" = t2.\"CODE GRAND SECTEUR\" order by \"CODE GRAND SECTEUR\"; \n"
   ]
  },
  {
   "cell_type": "markdown",
   "id": "reserved-swing",
   "metadata": {},
   "source": [
    "### Query 9\n",
    " \n",
    "For measure Sum of \"Conso moyenne (MWh)\" \n",
    "Comparing \"Type EPCI\" CC vs CA \n",
    "grouped by \"CODE GRAND SECTEUR\" \n",
    "\n",
    "Insight is: Mean Greater for CC \n",
    "\n",
    "\n"
   ]
  },
  {
   "cell_type": "code",
   "execution_count": 21,
   "id": "fatal-quest",
   "metadata": {},
   "outputs": [
    {
     "name": "stdout",
     "output_type": "stream",
     "text": [
      "6 rows affected.\n"
     ]
    },
    {
     "data": {
      "text/html": [
       "<table>\n",
       "    <tr>\n",
       "        <th>CODE GRAND SECTEUR</th>\n",
       "        <th>Sum(Conso moyenne (MWh)) for Type EPCI = CC</th>\n",
       "        <th>Sum(Conso moyenne (MWh)) for Type EPCI = CA</th>\n",
       "    </tr>\n",
       "    <tr>\n",
       "        <td>AGRICULTURE</td>\n",
       "        <td>1192524</td>\n",
       "        <td>397187</td>\n",
       "    </tr>\n",
       "    <tr>\n",
       "        <td>INCONNU</td>\n",
       "        <td>58507</td>\n",
       "        <td>53848</td>\n",
       "    </tr>\n",
       "    <tr>\n",
       "        <td>INDUSTRIE</td>\n",
       "        <td>6528447</td>\n",
       "        <td>3374284</td>\n",
       "    </tr>\n",
       "    <tr>\n",
       "        <td>PETIT_PROFESSIONNEL</td>\n",
       "        <td>94040</td>\n",
       "        <td>40129</td>\n",
       "    </tr>\n",
       "    <tr>\n",
       "        <td>RESIDENTIEL</td>\n",
       "        <td>51244</td>\n",
       "        <td>26080</td>\n",
       "    </tr>\n",
       "    <tr>\n",
       "        <td>TERTIAIRE</td>\n",
       "        <td>3050425</td>\n",
       "        <td>2704164</td>\n",
       "    </tr>\n",
       "</table>"
      ],
      "text/plain": [
       "[('AGRICULTURE', Decimal('1192524'), Decimal('397187')),\n",
       " ('INCONNU', Decimal('58507'), Decimal('53848')),\n",
       " ('INDUSTRIE', Decimal('6528447'), Decimal('3374284')),\n",
       " ('PETIT_PROFESSIONNEL', Decimal('94040'), Decimal('40129')),\n",
       " ('RESIDENTIEL', Decimal('51244'), Decimal('26080')),\n",
       " ('TERTIAIRE', Decimal('3050425'), Decimal('2704164'))]"
      ]
     },
     "execution_count": 21,
     "metadata": {},
     "output_type": "execute_result"
    }
   ],
   "source": [
    "%%sql\n",
    "select t1.\"CODE GRAND SECTEUR\", \n",
    "       t1.measure1 as \"Sum(Conso moyenne (MWh)) for Type EPCI = CC\", t2.measure2 as \"Sum(Conso moyenne (MWh)) for Type EPCI = CA\"  \n",
    "from \n",
    "  (select \"Type EPCI\", \"CODE GRAND SECTEUR\", sum(\"Conso moyenne (MWh)\") as measure1 \n",
    "   from conso_iris \n",
    "   where  \"Type EPCI\" = 'CC' \n",
    "   group by \"Type EPCI\", \"CODE GRAND SECTEUR\") t1, \n",
    "  (select \"Type EPCI\", \"CODE GRAND SECTEUR\",sum(\"Conso moyenne (MWh)\") as measure2 \n",
    "   from conso_iris \n",
    "   where \"Type EPCI\" = 'CA' \n",
    "   group by \"Type EPCI\", \"CODE GRAND SECTEUR\") t2 \n",
    "where t1.\"CODE GRAND SECTEUR\" = t2.\"CODE GRAND SECTEUR\" order by \"CODE GRAND SECTEUR\"; \n"
   ]
  },
  {
   "cell_type": "markdown",
   "id": "domestic-cincinnati",
   "metadata": {},
   "source": [
    "### Query 10\n",
    " \n",
    "For measure Sum of \"Conso moyenne (MWh)\" \n",
    "Comparing \"CODE GRAND SECTEUR\" RESIDENTIEL vs PETIT_PROFESSIONNEL \n",
    "grouped by \"Année\" \n",
    "\n",
    "Insight is: Mean Smaller for RESIDENTIEL, Insight is: Variance Smaller for RESIDENTIEL \n",
    "\n",
    "\n"
   ]
  },
  {
   "cell_type": "code",
   "execution_count": 22,
   "id": "passive-drink",
   "metadata": {},
   "outputs": [
    {
     "name": "stdout",
     "output_type": "stream",
     "text": [
      "7 rows affected.\n"
     ]
    },
    {
     "data": {
      "text/html": [
       "<table>\n",
       "    <tr>\n",
       "        <th>Année</th>\n",
       "        <th>Sum(Conso moyenne (MWh)) for CODE GRAND SECTEUR = RESIDENTIEL</th>\n",
       "        <th>Sum(Conso moyenne (MWh)) for CODE GRAND SECTEUR = PETIT_PROFESS</th>\n",
       "    </tr>\n",
       "    <tr>\n",
       "        <td>2011</td>\n",
       "        <td>9267</td>\n",
       "        <td>20881</td>\n",
       "    </tr>\n",
       "    <tr>\n",
       "        <td>2012</td>\n",
       "        <td>9944</td>\n",
       "        <td>21383</td>\n",
       "    </tr>\n",
       "    <tr>\n",
       "        <td>2013</td>\n",
       "        <td>10232</td>\n",
       "        <td>21578</td>\n",
       "    </tr>\n",
       "    <tr>\n",
       "        <td>2014</td>\n",
       "        <td>9123</td>\n",
       "        <td>20312</td>\n",
       "    </tr>\n",
       "    <tr>\n",
       "        <td>2015</td>\n",
       "        <td>9289</td>\n",
       "        <td>20565</td>\n",
       "    </tr>\n",
       "    <tr>\n",
       "        <td>2016</td>\n",
       "        <td>9440</td>\n",
       "        <td>20587</td>\n",
       "    </tr>\n",
       "    <tr>\n",
       "        <td>2017</td>\n",
       "        <td>9045</td>\n",
       "        <td>19895</td>\n",
       "    </tr>\n",
       "</table>"
      ],
      "text/plain": [
       "[(2011, Decimal('9267'), Decimal('20881')),\n",
       " (2012, Decimal('9944'), Decimal('21383')),\n",
       " (2013, Decimal('10232'), Decimal('21578')),\n",
       " (2014, Decimal('9123'), Decimal('20312')),\n",
       " (2015, Decimal('9289'), Decimal('20565')),\n",
       " (2016, Decimal('9440'), Decimal('20587')),\n",
       " (2017, Decimal('9045'), Decimal('19895'))]"
      ]
     },
     "execution_count": 22,
     "metadata": {},
     "output_type": "execute_result"
    }
   ],
   "source": [
    "%%sql\n",
    "select t1.\"Année\", \n",
    "       t1.measure1 as \"Sum(Conso moyenne (MWh)) for CODE GRAND SECTEUR = RESIDENTIEL\", t2.measure2 as \"Sum(Conso moyenne (MWh)) for CODE GRAND SECTEUR = PETIT_PROFESSIONNEL\"  \n",
    "from \n",
    "  (select \"CODE GRAND SECTEUR\", \"Année\", sum(\"Conso moyenne (MWh)\") as measure1 \n",
    "   from conso_iris \n",
    "   where  \"CODE GRAND SECTEUR\" = 'RESIDENTIEL' \n",
    "   group by \"CODE GRAND SECTEUR\", \"Année\") t1, \n",
    "  (select \"CODE GRAND SECTEUR\", \"Année\",sum(\"Conso moyenne (MWh)\") as measure2 \n",
    "   from conso_iris \n",
    "   where \"CODE GRAND SECTEUR\" = 'PETIT_PROFESSIONNEL' \n",
    "   group by \"CODE GRAND SECTEUR\", \"Année\") t2 \n",
    "where t1.\"Année\" = t2.\"Année\" order by \"Année\"; \n"
   ]
  },
  {
   "cell_type": "code",
   "execution_count": null,
   "id": "dress-australia",
   "metadata": {},
   "outputs": [],
   "source": []
  },
  {
   "cell_type": "code",
   "execution_count": null,
   "id": "optimum-ecology",
   "metadata": {},
   "outputs": [],
   "source": []
  },
  {
   "cell_type": "code",
   "execution_count": null,
   "id": "bridal-gibson",
   "metadata": {},
   "outputs": [],
   "source": []
  },
  {
   "cell_type": "code",
   "execution_count": null,
   "id": "adopted-saint",
   "metadata": {},
   "outputs": [],
   "source": []
  }
 ],
 "metadata": {
  "kernelspec": {
   "display_name": "Python 3",
   "language": "python",
   "name": "python3"
  },
  "language_info": {
   "codemirror_mode": {
    "name": "ipython",
    "version": 3
   },
   "file_extension": ".py",
   "mimetype": "text/x-python",
   "name": "python",
   "nbconvert_exporter": "python",
   "pygments_lexer": "ipython3",
   "version": "3.8.10"
  }
 },
 "nbformat": 4,
 "nbformat_minor": 5
}
